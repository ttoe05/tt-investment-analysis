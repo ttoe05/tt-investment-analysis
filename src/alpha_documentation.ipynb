{
 "cells": [
  {
   "cell_type": "markdown",
   "source": [
    "## AlphaVantage Data Documentation\n",
    "\n",
    "The following documentation goes through the finance data received from alphaVantage, its output, transformations, normalizing it, and where to stage the data in AWS s3.\n",
    "\n",
    "Data:\n",
    "\n",
    "- Income Statement\n",
    "- Balance Sheet\n",
    "- Cash Flow\n",
    "- ETF Profile & Holdings\n",
    "- Corporate Action\n"
   ],
   "metadata": {
    "collapsed": false
   },
   "id": "d18a1d6a88a091f3"
  },
  {
   "cell_type": "markdown",
   "source": [
    "# Income Statement"
   ],
   "metadata": {
    "collapsed": false
   },
   "id": "ea8a83ecd3ae1517"
  },
  {
   "cell_type": "code",
   "outputs": [],
   "source": [
    "import polars as pl\n",
    "import os\n",
    "from alphaio import AlphaIO\n",
    "from s3io import S3IO\n",
    "from datetime import datetime"
   ],
   "metadata": {
    "collapsed": false,
    "ExecuteTime": {
     "end_time": "2025-01-12T16:46:35.626148Z",
     "start_time": "2025-01-12T16:46:35.619442Z"
    }
   },
   "id": "413b4df85db53db0",
   "execution_count": 7
  },
  {
   "cell_type": "code",
   "outputs": [
    {
     "ename": "KeyError",
     "evalue": "'ALPHA_VANTAGE_API'",
     "output_type": "error",
     "traceback": [
      "\u001B[0;31m---------------------------------------------------------------------------\u001B[0m",
      "\u001B[0;31mKeyError\u001B[0m                                  Traceback (most recent call last)",
      "Cell \u001B[0;32mIn[4], line 3\u001B[0m\n\u001B[1;32m      1\u001B[0m \u001B[38;5;66;03m# load in data for RGLD\u001B[39;00m\n\u001B[1;32m      2\u001B[0m alphaio \u001B[38;5;241m=\u001B[39m AlphaIO()\n\u001B[0;32m----> 3\u001B[0m rgld_income \u001B[38;5;241m=\u001B[39m \u001B[43malphaio\u001B[49m\u001B[38;5;241;43m.\u001B[39;49m\u001B[43mget_statement\u001B[49m\u001B[43m(\u001B[49m\u001B[43mticker\u001B[49m\u001B[38;5;241;43m=\u001B[39;49m\u001B[38;5;124;43m'\u001B[39;49m\u001B[38;5;124;43mRGLD\u001B[39;49m\u001B[38;5;124;43m'\u001B[39;49m\u001B[43m,\u001B[49m\u001B[43m \u001B[49m\u001B[43mstatement\u001B[49m\u001B[38;5;241;43m=\u001B[39;49m\u001B[38;5;124;43m'\u001B[39;49m\u001B[38;5;124;43mincome\u001B[39;49m\u001B[38;5;124;43m'\u001B[39;49m\u001B[43m)\u001B[49m\n\u001B[1;32m      5\u001B[0m rgld_income[\u001B[38;5;241m0\u001B[39m]\n",
      "File \u001B[0;32m~/Documents/Development/investment_analysis/tt-investment-analysis/src/alphaio.py:47\u001B[0m, in \u001B[0;36mAlphaIO.get_statement\u001B[0;34m(self, ticker, statement)\u001B[0m\n\u001B[1;32m     35\u001B[0m \u001B[38;5;250m\u001B[39m\u001B[38;5;124;03m\"\"\"\u001B[39;00m\n\u001B[1;32m     36\u001B[0m \u001B[38;5;124;03mGet income statement for a given ticker\u001B[39;00m\n\u001B[1;32m     37\u001B[0m \u001B[38;5;124;03mParameters\u001B[39;00m\n\u001B[0;32m   (...)\u001B[0m\n\u001B[1;32m     44\u001B[0m \u001B[38;5;124;03m:return:s\u001B[39;00m\n\u001B[1;32m     45\u001B[0m \u001B[38;5;124;03m\"\"\"\u001B[39;00m\n\u001B[1;32m     46\u001B[0m ticker \u001B[38;5;241m=\u001B[39m ticker\u001B[38;5;241m.\u001B[39mupper()\n\u001B[0;32m---> 47\u001B[0m api_key \u001B[38;5;241m=\u001B[39m \u001B[43mget_alpha_key\u001B[49m\u001B[43m(\u001B[49m\u001B[43m)\u001B[49m\n\u001B[1;32m     48\u001B[0m statement_dict \u001B[38;5;241m=\u001B[39m {\n\u001B[1;32m     49\u001B[0m     \u001B[38;5;124m'\u001B[39m\u001B[38;5;124mincome\u001B[39m\u001B[38;5;124m'\u001B[39m: \u001B[38;5;124m'\u001B[39m\u001B[38;5;124mINCOME_STATEMENT\u001B[39m\u001B[38;5;124m'\u001B[39m,\n\u001B[1;32m     50\u001B[0m     \u001B[38;5;124m'\u001B[39m\u001B[38;5;124mbalance\u001B[39m\u001B[38;5;124m'\u001B[39m: \u001B[38;5;124m'\u001B[39m\u001B[38;5;124mBALANCE_STATEMENT\u001B[39m\u001B[38;5;124m'\u001B[39m,\n\u001B[1;32m     51\u001B[0m     \u001B[38;5;124m'\u001B[39m\u001B[38;5;124mcash\u001B[39m\u001B[38;5;124m'\u001B[39m: \u001B[38;5;124m'\u001B[39m\u001B[38;5;124mCASH_FLOW\u001B[39m\u001B[38;5;124m'\u001B[39m\n\u001B[1;32m     52\u001B[0m }\n\u001B[1;32m     53\u001B[0m financials \u001B[38;5;241m=\u001B[39m {}\n",
      "File \u001B[0;32m~/Documents/Development/investment_analysis/tt-investment-analysis/src/alpha_utils.py:9\u001B[0m, in \u001B[0;36mget_alpha_key\u001B[0;34m()\u001B[0m\n\u001B[1;32m      4\u001B[0m \u001B[38;5;28;01mdef\u001B[39;00m\u001B[38;5;250m \u001B[39m\u001B[38;5;21mget_alpha_key\u001B[39m() \u001B[38;5;241m-\u001B[39m\u001B[38;5;241m>\u001B[39m \u001B[38;5;28mstr\u001B[39m:\n\u001B[1;32m      5\u001B[0m \u001B[38;5;250m    \u001B[39m\u001B[38;5;124;03m\"\"\"\u001B[39;00m\n\u001B[1;32m      6\u001B[0m \u001B[38;5;124;03m    get alphaVantage API key\u001B[39;00m\n\u001B[1;32m      7\u001B[0m \u001B[38;5;124;03m    :return:\u001B[39;00m\n\u001B[1;32m      8\u001B[0m \u001B[38;5;124;03m    \"\"\"\u001B[39;00m\n\u001B[0;32m----> 9\u001B[0m     \u001B[38;5;28;01mreturn\u001B[39;00m \u001B[43mos\u001B[49m\u001B[38;5;241;43m.\u001B[39;49m\u001B[43menviron\u001B[49m\u001B[43m[\u001B[49m\u001B[38;5;124;43m'\u001B[39;49m\u001B[38;5;124;43mALPHA_VANTAGE_API\u001B[39;49m\u001B[38;5;124;43m'\u001B[39;49m\u001B[43m]\u001B[49m\n",
      "File \u001B[0;32m~/homebrew/Cellar/python@3.10/3.10.6_2/Frameworks/Python.framework/Versions/3.10/lib/python3.10/os.py:679\u001B[0m, in \u001B[0;36m_Environ.__getitem__\u001B[0;34m(self, key)\u001B[0m\n\u001B[1;32m    676\u001B[0m     value \u001B[38;5;241m=\u001B[39m \u001B[38;5;28mself\u001B[39m\u001B[38;5;241m.\u001B[39m_data[\u001B[38;5;28mself\u001B[39m\u001B[38;5;241m.\u001B[39mencodekey(key)]\n\u001B[1;32m    677\u001B[0m \u001B[38;5;28;01mexcept\u001B[39;00m \u001B[38;5;167;01mKeyError\u001B[39;00m:\n\u001B[1;32m    678\u001B[0m     \u001B[38;5;66;03m# raise KeyError with the original key value\u001B[39;00m\n\u001B[0;32m--> 679\u001B[0m     \u001B[38;5;28;01mraise\u001B[39;00m \u001B[38;5;167;01mKeyError\u001B[39;00m(key) \u001B[38;5;28;01mfrom\u001B[39;00m\u001B[38;5;250m \u001B[39m\u001B[38;5;28;01mNone\u001B[39;00m\n\u001B[1;32m    680\u001B[0m \u001B[38;5;28;01mreturn\u001B[39;00m \u001B[38;5;28mself\u001B[39m\u001B[38;5;241m.\u001B[39mdecodevalue(value)\n",
      "\u001B[0;31mKeyError\u001B[0m: 'ALPHA_VANTAGE_API'"
     ]
    }
   ],
   "source": [
    "# load in data for RGLD\n",
    "alphaio = AlphaIO()\n",
    "rgld_income = alphaio.get_statement(ticker='RGLD', statement='income')\n",
    "\n",
    "rgld_income[0]"
   ],
   "metadata": {
    "collapsed": false,
    "ExecuteTime": {
     "end_time": "2025-01-11T14:47:50.997179Z",
     "start_time": "2025-01-11T14:47:50.904280Z"
    }
   },
   "id": "2efcf5caf3b173ab",
   "execution_count": 4
  },
  {
   "cell_type": "code",
   "outputs": [
    {
     "name": "stdout",
     "output_type": "stream",
     "text": [
      "Length of output: 1\n",
      "Keys of the first element: dict_keys(['symbol', 'annualReports', 'quarterlyReports'])\n"
     ]
    }
   ],
   "source": [
    "# print the length of the output\n",
    "print(f\"Length of output: {len(rgld_income)}\")\n",
    "print(f\"Keys of the first element: {rgld_income[0].keys()}\")"
   ],
   "metadata": {
    "collapsed": false,
    "ExecuteTime": {
     "end_time": "2024-12-23T15:31:16.997090Z",
     "start_time": "2024-12-23T15:31:16.990050Z"
    }
   },
   "id": "63273b46552d5322",
   "execution_count": 3
  },
  {
   "cell_type": "code",
   "outputs": [
    {
     "name": "stdout",
     "output_type": "stream",
     "text": [
      "Length of the annualReports: 13\n",
      "Length of the quarterlyReports: 59\n"
     ]
    }
   ],
   "source": [
    "print(f\"Length of the annualReports: {len(rgld_income[0]['annualReports'])}\")\n",
    "print(f\"Length of the quarterlyReports: {len(rgld_income[0]['quarterlyReports'])}\")"
   ],
   "metadata": {
    "collapsed": false,
    "ExecuteTime": {
     "end_time": "2024-12-23T15:33:43.291171Z",
     "start_time": "2024-12-23T15:33:43.287028Z"
    }
   },
   "id": "e4f50941f9608cd8",
   "execution_count": 4
  },
  {
   "cell_type": "code",
   "outputs": [
    {
     "name": "stdout",
     "output_type": "stream",
     "text": [
      "first element of the annualReports: {'fiscalDateEnding': '2022-12-31', 'reportedCurrency': 'USD', 'grossProfit': '323101000', 'totalRevenue': '603206000', 'costOfRevenue': '133541000', 'costofGoodsAndServicesSold': '94642000', 'operatingIncome': '283709000', 'sellingGeneralAndAdministrative': '34612000', 'researchAndDevelopment': 'None', 'operatingExpenses': '74004000', 'investmentIncomeNet': 'None', 'netInterestIncome': '-9338000', 'interestIncome': '7832000', 'interestExpense': '17170000', 'nonInterestIncome': '603206000', 'otherNonOperatingIncome': 'None', 'depreciation': '493000', 'depreciationAndAmortization': '183222000', 'incomeBeforeTax': '271908000', 'incomeTaxExpense': '32926000', 'interestAndDebtExpense': 'None', 'netIncomeFromContinuingOperations': '239942000', 'comprehensiveIncomeNetOfTax': '238982000', 'ebit': '283709000', 'ebitda': '474763000', 'netIncome': '238982000'}\n",
      "first element of the quarterlyReports: {'fiscalDateEnding': '2024-06-30', 'reportedCurrency': 'USD', 'grossProfit': '112683000', 'totalRevenue': '174096000', 'costOfRevenue': '34774000', 'costofGoodsAndServicesSold': '24174000', 'operatingIncome': '102083000', 'sellingGeneralAndAdministrative': '10511000', 'researchAndDevelopment': 'None', 'operatingExpenses': '10600000', 'investmentIncomeNet': 'None', 'netInterestIncome': '-1709000', 'interestIncome': '807000', 'interestExpense': '2516000', 'nonInterestIncome': '174096000', 'otherNonOperatingIncome': 'None', 'depreciation': 'None', 'depreciationAndAmortization': '89000', 'incomeBeforeTax': '100199000', 'incomeTaxExpense': '18991000', 'interestAndDebtExpense': 'None', 'netIncomeFromContinuingOperations': '81320000', 'comprehensiveIncomeNetOfTax': '81208000', 'ebit': '102083000', 'ebitda': '102172000', 'netIncome': '81208000'}\n"
     ]
    }
   ],
   "source": [
    "print(f\"first element of the annualReports: {rgld_income[0]['annualReports'][1]}\")\n",
    "print(f\"first element of the quarterlyReports: {rgld_income[0]['quarterlyReports'][1]}\")"
   ],
   "metadata": {
    "collapsed": false,
    "ExecuteTime": {
     "end_time": "2024-12-23T15:38:38.058500Z",
     "start_time": "2024-12-23T15:38:38.055795Z"
    }
   },
   "id": "f96779ae27ddadea",
   "execution_count": 6
  },
  {
   "cell_type": "code",
   "outputs": [
    {
     "data": {
      "text/plain": "shape: (5, 26)\n┌───────────┬───────────┬───────────┬───────────┬───┬───────────┬───────────┬───────────┬──────────┐\n│ fiscalDat ┆ reportedC ┆ grossProf ┆ totalReve ┆ … ┆ comprehen ┆ ebit      ┆ ebitda    ┆ netIncom │\n│ eEnding   ┆ urrency   ┆ it        ┆ nue       ┆   ┆ siveIncom ┆ ---       ┆ ---       ┆ e        │\n│ ---       ┆ ---       ┆ ---       ┆ ---       ┆   ┆ eNetOfTax ┆ str       ┆ str       ┆ ---      │\n│ str       ┆ str       ┆ str       ┆ str       ┆   ┆ ---       ┆           ┆           ┆ str      │\n│           ┆           ┆           ┆           ┆   ┆ str       ┆           ┆           ┆          │\n╞═══════════╪═══════════╪═══════════╪═══════════╪═══╪═══════════╪═══════════╪═══════════╪══════════╡\n│ 2023-12-3 ┆ USD       ┆ 343394000 ┆ 605717000 ┆ … ┆ 239440000 ┆ 303202000 ┆ 468139000 ┆ 23944000 │\n│ 1         ┆           ┆           ┆           ┆   ┆           ┆           ┆           ┆ 0        │\n│ 2022-12-3 ┆ USD       ┆ 323101000 ┆ 603206000 ┆ … ┆ 238982000 ┆ 283709000 ┆ 474763000 ┆ 23898200 │\n│ 1         ┆           ┆           ┆           ┆   ┆           ┆           ┆           ┆ 0        │\n│ 2021-06-3 ┆ USD       ┆ 333002000 ┆ 648614000 ┆ … ┆ 302532000 ┆ 337602000 ┆ None      ┆ 30253200 │\n│ 0         ┆           ┆           ┆           ┆   ┆           ┆           ┆           ┆ 0        │\n│ 2020-06-3 ┆ USD       ┆ 236058000 ┆ 498819000 ┆ … ┆ 199343000 ┆ 198945000 ┆ None      ┆ 19934300 │\n│ 0         ┆           ┆           ┆           ┆   ┆           ┆           ┆           ┆ 0        │\n│ 2019-06-3 ┆ USD       ┆ 178553000 ┆ 423056000 ┆ … ┆ 93825000  ┆ 140707000 ┆ None      ┆ 93825000 │\n│ 0         ┆           ┆           ┆           ┆   ┆           ┆           ┆           ┆          │\n└───────────┴───────────┴───────────┴───────────┴───┴───────────┴───────────┴───────────┴──────────┘",
      "text/html": "<div><style>\n.dataframe > thead > tr,\n.dataframe > tbody > tr {\n  text-align: right;\n  white-space: pre-wrap;\n}\n</style>\n<small>shape: (5, 26)</small><table border=\"1\" class=\"dataframe\"><thead><tr><th>fiscalDateEnding</th><th>reportedCurrency</th><th>grossProfit</th><th>totalRevenue</th><th>costOfRevenue</th><th>costofGoodsAndServicesSold</th><th>operatingIncome</th><th>sellingGeneralAndAdministrative</th><th>researchAndDevelopment</th><th>operatingExpenses</th><th>investmentIncomeNet</th><th>netInterestIncome</th><th>interestIncome</th><th>interestExpense</th><th>nonInterestIncome</th><th>otherNonOperatingIncome</th><th>depreciation</th><th>depreciationAndAmortization</th><th>incomeBeforeTax</th><th>incomeTaxExpense</th><th>interestAndDebtExpense</th><th>netIncomeFromContinuingOperations</th><th>comprehensiveIncomeNetOfTax</th><th>ebit</th><th>ebitda</th><th>netIncome</th></tr><tr><td>str</td><td>str</td><td>str</td><td>str</td><td>str</td><td>str</td><td>str</td><td>str</td><td>str</td><td>str</td><td>str</td><td>str</td><td>str</td><td>str</td><td>str</td><td>str</td><td>str</td><td>str</td><td>str</td><td>str</td><td>str</td><td>str</td><td>str</td><td>str</td><td>str</td><td>str</td></tr></thead><tbody><tr><td>&quot;2023-12-31&quot;</td><td>&quot;USD&quot;</td><td>&quot;343394000&quot;</td><td>&quot;605717000&quot;</td><td>&quot;130284000&quot;</td><td>&quot;90523000&quot;</td><td>&quot;303202000&quot;</td><td>&quot;39761000&quot;</td><td>&quot;None&quot;</td><td>&quot;79953000&quot;</td><td>&quot;None&quot;</td><td>&quot;-20915000&quot;</td><td>&quot;9952000&quot;</td><td>&quot;30867000&quot;</td><td>&quot;605717000&quot;</td><td>&quot;None&quot;</td><td>&quot;431000&quot;</td><td>&quot;191054000&quot;</td><td>&quot;281448000&quot;</td><td>&quot;42008000&quot;</td><td>&quot;None&quot;</td><td>&quot;240132000&quot;</td><td>&quot;239440000&quot;</td><td>&quot;303202000&quot;</td><td>&quot;468139000&quot;</td><td>&quot;239440000&quot;</td></tr><tr><td>&quot;2022-12-31&quot;</td><td>&quot;USD&quot;</td><td>&quot;323101000&quot;</td><td>&quot;603206000&quot;</td><td>&quot;133541000&quot;</td><td>&quot;94642000&quot;</td><td>&quot;283709000&quot;</td><td>&quot;34612000&quot;</td><td>&quot;None&quot;</td><td>&quot;74004000&quot;</td><td>&quot;None&quot;</td><td>&quot;-9338000&quot;</td><td>&quot;7832000&quot;</td><td>&quot;17170000&quot;</td><td>&quot;603206000&quot;</td><td>&quot;None&quot;</td><td>&quot;493000&quot;</td><td>&quot;183222000&quot;</td><td>&quot;271908000&quot;</td><td>&quot;32926000&quot;</td><td>&quot;None&quot;</td><td>&quot;239942000&quot;</td><td>&quot;238982000&quot;</td><td>&quot;283709000&quot;</td><td>&quot;474763000&quot;</td><td>&quot;238982000&quot;</td></tr><tr><td>&quot;2021-06-30&quot;</td><td>&quot;USD&quot;</td><td>&quot;333002000&quot;</td><td>&quot;648614000&quot;</td><td>&quot;121285000&quot;</td><td>&quot;92898000&quot;</td><td>&quot;337602000&quot;</td><td>&quot;28387000&quot;</td><td>&quot;None&quot;</td><td>&quot;57693000&quot;</td><td>&quot;None&quot;</td><td>&quot;-1148000&quot;</td><td>&quot;None&quot;</td><td>&quot;1148000&quot;</td><td>&quot;649762000&quot;</td><td>&quot;None&quot;</td><td>&quot;356000&quot;</td><td>&quot;None&quot;</td><td>&quot;339399000&quot;</td><td>&quot;36867000&quot;</td><td>&quot;1148000&quot;</td><td>&quot;302776000&quot;</td><td>&quot;302532000&quot;</td><td>&quot;337602000&quot;</td><td>&quot;None&quot;</td><td>&quot;302532000&quot;</td></tr><tr><td>&quot;2020-06-30&quot;</td><td>&quot;USD&quot;</td><td>&quot;236058000&quot;</td><td>&quot;498819000&quot;</td><td>&quot;115426000&quot;</td><td>&quot;83890000&quot;</td><td>&quot;198945000&quot;</td><td>&quot;30195000&quot;</td><td>&quot;None&quot;</td><td>&quot;36726000&quot;</td><td>&quot;None&quot;</td><td>&quot;-1136000&quot;</td><td>&quot;None&quot;</td><td>&quot;1136000&quot;</td><td>&quot;498819000&quot;</td><td>&quot;None&quot;</td><td>&quot;387000&quot;</td><td>&quot;None&quot;</td><td>&quot;195689000&quot;</td><td>&quot;-3654000&quot;</td><td>&quot;1136000&quot;</td><td>&quot;196250000&quot;</td><td>&quot;199343000&quot;</td><td>&quot;198945000&quot;</td><td>&quot;None&quot;</td><td>&quot;199343000&quot;</td></tr><tr><td>&quot;2019-06-30&quot;</td><td>&quot;USD&quot;</td><td>&quot;178553000&quot;</td><td>&quot;423056000&quot;</td><td>&quot;108023000&quot;</td><td>&quot;77535000&quot;</td><td>&quot;140707000&quot;</td><td>&quot;30488000&quot;</td><td>&quot;None&quot;</td><td>&quot;37646000&quot;</td><td>&quot;None&quot;</td><td>&quot;-15288000&quot;</td><td>&quot;None&quot;</td><td>&quot;15288000&quot;</td><td>&quot;423056000&quot;</td><td>&quot;None&quot;</td><td>&quot;200000&quot;</td><td>&quot;None&quot;</td><td>&quot;111323000&quot;</td><td>&quot;17498000&quot;</td><td>&quot;15288000&quot;</td><td>&quot;89079000&quot;</td><td>&quot;93825000&quot;</td><td>&quot;140707000&quot;</td><td>&quot;None&quot;</td><td>&quot;93825000&quot;</td></tr></tbody></table></div>"
     },
     "execution_count": 3,
     "metadata": {},
     "output_type": "execute_result"
    }
   ],
   "source": [
    "df_income_annual = pl.DataFrame(rgld_income[0]['annualReports'])\n",
    "df_income_quarterly = pl.DataFrame(rgld_income[0]['quarterlyReports'])\n",
    "\n",
    "df_income_annual.head()"
   ],
   "metadata": {
    "collapsed": false,
    "ExecuteTime": {
     "end_time": "2024-12-31T17:43:32.750060Z",
     "start_time": "2024-12-31T17:43:32.741967Z"
    }
   },
   "id": "e081bce3b9cbd5b5",
   "execution_count": 3
  },
  {
   "cell_type": "code",
   "outputs": [
    {
     "data": {
      "text/plain": "shape: (5, 26)\n┌───────────┬───────────┬───────────┬───────────┬───┬───────────┬───────────┬───────────┬──────────┐\n│ fiscalDat ┆ reportedC ┆ grossProf ┆ totalReve ┆ … ┆ comprehen ┆ ebit      ┆ ebitda    ┆ netIncom │\n│ eEnding   ┆ urrency   ┆ it        ┆ nue       ┆   ┆ siveIncom ┆ ---       ┆ ---       ┆ e        │\n│ ---       ┆ ---       ┆ ---       ┆ ---       ┆   ┆ eNetOfTax ┆ str       ┆ str       ┆ ---      │\n│ str       ┆ str       ┆ str       ┆ str       ┆   ┆ ---       ┆           ┆           ┆ str      │\n│           ┆           ┆           ┆           ┆   ┆ str       ┆           ┆           ┆          │\n╞═══════════╪═══════════╪═══════════╪═══════════╪═══╪═══════════╪═══════════╪═══════════╪══════════╡\n│ 2024-09-3 ┆ USD       ┆ 129034000 ┆ 193837000 ┆ … ┆ 96242000  ┆ 118846000 ┆ 118932000 ┆ 96242000 │\n│ 0         ┆           ┆           ┆           ┆   ┆           ┆           ┆           ┆          │\n│ 2024-06-3 ┆ USD       ┆ 112683000 ┆ 174096000 ┆ … ┆ 81208000  ┆ 102083000 ┆ 102172000 ┆ 81208000 │\n│ 0         ┆           ┆           ┆           ┆   ┆           ┆           ┆           ┆          │\n│ 2024-03-3 ┆ USD       ┆ 87019000  ┆ 148902000 ┆ … ┆ 47166000  ┆ 75525000  ┆ 75607000  ┆ 47166000 │\n│ 1         ┆           ┆           ┆           ┆   ┆           ┆           ┆           ┆          │\n│ 2023-12-3 ┆ USD       ┆ 89516000  ┆ 152666000 ┆ … ┆ 62779000  ┆ 79690000  ┆ 119780000 ┆ 62779000 │\n│ 1         ┆           ┆           ┆           ┆   ┆           ┆           ┆           ┆          │\n│ 2023-09-3 ┆ USD       ┆ 75606000  ┆ 138617000 ┆ … ┆ 49337000  ┆ 65562000  ┆ 65679000  ┆ 49337000 │\n│ 0         ┆           ┆           ┆           ┆   ┆           ┆           ┆           ┆          │\n└───────────┴───────────┴───────────┴───────────┴───┴───────────┴───────────┴───────────┴──────────┘",
      "text/html": "<div><style>\n.dataframe > thead > tr,\n.dataframe > tbody > tr {\n  text-align: right;\n  white-space: pre-wrap;\n}\n</style>\n<small>shape: (5, 26)</small><table border=\"1\" class=\"dataframe\"><thead><tr><th>fiscalDateEnding</th><th>reportedCurrency</th><th>grossProfit</th><th>totalRevenue</th><th>costOfRevenue</th><th>costofGoodsAndServicesSold</th><th>operatingIncome</th><th>sellingGeneralAndAdministrative</th><th>researchAndDevelopment</th><th>operatingExpenses</th><th>investmentIncomeNet</th><th>netInterestIncome</th><th>interestIncome</th><th>interestExpense</th><th>nonInterestIncome</th><th>otherNonOperatingIncome</th><th>depreciation</th><th>depreciationAndAmortization</th><th>incomeBeforeTax</th><th>incomeTaxExpense</th><th>interestAndDebtExpense</th><th>netIncomeFromContinuingOperations</th><th>comprehensiveIncomeNetOfTax</th><th>ebit</th><th>ebitda</th><th>netIncome</th></tr><tr><td>str</td><td>str</td><td>str</td><td>str</td><td>str</td><td>str</td><td>str</td><td>str</td><td>str</td><td>str</td><td>str</td><td>str</td><td>str</td><td>str</td><td>str</td><td>str</td><td>str</td><td>str</td><td>str</td><td>str</td><td>str</td><td>str</td><td>str</td><td>str</td><td>str</td><td>str</td></tr></thead><tbody><tr><td>&quot;2024-09-30&quot;</td><td>&quot;USD&quot;</td><td>&quot;129034000&quot;</td><td>&quot;193837000&quot;</td><td>&quot;37380000&quot;</td><td>&quot;27192000&quot;</td><td>&quot;118846000&quot;</td><td>&quot;10102000&quot;</td><td>&quot;None&quot;</td><td>&quot;10188000&quot;</td><td>&quot;None&quot;</td><td>&quot;-581000&quot;</td><td>&quot;626000&quot;</td><td>&quot;1207000&quot;</td><td>&quot;193837000&quot;</td><td>&quot;None&quot;</td><td>&quot;None&quot;</td><td>&quot;86000&quot;</td><td>&quot;117752000&quot;</td><td>&quot;21510000&quot;</td><td>&quot;None&quot;</td><td>&quot;96330000&quot;</td><td>&quot;96242000&quot;</td><td>&quot;118846000&quot;</td><td>&quot;118932000&quot;</td><td>&quot;96242000&quot;</td></tr><tr><td>&quot;2024-06-30&quot;</td><td>&quot;USD&quot;</td><td>&quot;112683000&quot;</td><td>&quot;174096000&quot;</td><td>&quot;34774000&quot;</td><td>&quot;24174000&quot;</td><td>&quot;102083000&quot;</td><td>&quot;10511000&quot;</td><td>&quot;None&quot;</td><td>&quot;10600000&quot;</td><td>&quot;None&quot;</td><td>&quot;-1709000&quot;</td><td>&quot;807000&quot;</td><td>&quot;2516000&quot;</td><td>&quot;174096000&quot;</td><td>&quot;None&quot;</td><td>&quot;None&quot;</td><td>&quot;89000&quot;</td><td>&quot;100199000&quot;</td><td>&quot;18991000&quot;</td><td>&quot;None&quot;</td><td>&quot;81320000&quot;</td><td>&quot;81208000&quot;</td><td>&quot;102083000&quot;</td><td>&quot;102172000&quot;</td><td>&quot;81208000&quot;</td></tr><tr><td>&quot;2024-03-31&quot;</td><td>&quot;USD&quot;</td><td>&quot;87019000&quot;</td><td>&quot;148902000&quot;</td><td>&quot;33245000&quot;</td><td>&quot;21751000&quot;</td><td>&quot;75525000&quot;</td><td>&quot;11412000&quot;</td><td>&quot;None&quot;</td><td>&quot;11494000&quot;</td><td>&quot;None&quot;</td><td>&quot;-1630000&quot;</td><td>&quot;2977000&quot;</td><td>&quot;4607000&quot;</td><td>&quot;148902000&quot;</td><td>&quot;None&quot;</td><td>&quot;None&quot;</td><td>&quot;82000&quot;</td><td>&quot;74199000&quot;</td><td>&quot;27033000&quot;</td><td>&quot;None&quot;</td><td>&quot;47309000&quot;</td><td>&quot;47166000&quot;</td><td>&quot;75525000&quot;</td><td>&quot;75607000&quot;</td><td>&quot;47166000&quot;</td></tr><tr><td>&quot;2023-12-31&quot;</td><td>&quot;USD&quot;</td><td>&quot;89516000&quot;</td><td>&quot;152666000&quot;</td><td>&quot;30180000&quot;</td><td>&quot;20785000&quot;</td><td>&quot;79690000&quot;</td><td>&quot;9741000&quot;</td><td>&quot;None&quot;</td><td>&quot;49587000&quot;</td><td>&quot;None&quot;</td><td>&quot;-3396000&quot;</td><td>&quot;2604000&quot;</td><td>&quot;6000000&quot;</td><td>&quot;152666000&quot;</td><td>&quot;None&quot;</td><td>&quot;None&quot;</td><td>&quot;38413000&quot;</td><td>&quot;76135000&quot;</td><td>&quot;13356000&quot;</td><td>&quot;None&quot;</td><td>&quot;62962000&quot;</td><td>&quot;62779000&quot;</td><td>&quot;79690000&quot;</td><td>&quot;119780000&quot;</td><td>&quot;62779000&quot;</td></tr><tr><td>&quot;2023-09-30&quot;</td><td>&quot;USD&quot;</td><td>&quot;75606000&quot;</td><td>&quot;138617000&quot;</td><td>&quot;31395000&quot;</td><td>&quot;21351000&quot;</td><td>&quot;65562000&quot;</td><td>&quot;9927000&quot;</td><td>&quot;None&quot;</td><td>&quot;10044000&quot;</td><td>&quot;None&quot;</td><td>&quot;-4849000&quot;</td><td>&quot;2436000&quot;</td><td>&quot;7285000&quot;</td><td>&quot;138617000&quot;</td><td>&quot;None&quot;</td><td>&quot;None&quot;</td><td>&quot;117000&quot;</td><td>&quot;60089000&quot;</td><td>&quot;10752000&quot;</td><td>&quot;None&quot;</td><td>&quot;49499000&quot;</td><td>&quot;49337000&quot;</td><td>&quot;65562000&quot;</td><td>&quot;65679000&quot;</td><td>&quot;49337000&quot;</td></tr></tbody></table></div>"
     },
     "execution_count": 24,
     "metadata": {},
     "output_type": "execute_result"
    }
   ],
   "source": [
    "df_income_quarterly.head()"
   ],
   "metadata": {
    "collapsed": false,
    "ExecuteTime": {
     "end_time": "2024-12-31T17:31:21.931605Z",
     "start_time": "2024-12-31T17:31:21.928343Z"
    }
   },
   "id": "cf9cd0f6d92b069e",
   "execution_count": 24
  },
  {
   "cell_type": "markdown",
   "source": [
    "## Income Statement Data Definition\n",
    "\n",
    "https://documentation.alphavantage.co/FundamentalDataDocs/gaap_documentation.html#IncomeStatement"
   ],
   "metadata": {
    "collapsed": false
   },
   "id": "2ca3d9f6aefa7e63"
  },
  {
   "cell_type": "code",
   "outputs": [
    {
     "data": {
      "text/plain": "shape: (5, 26)\n┌───────────┬───────────┬───────────┬───────────┬───┬───────────┬───────────┬───────────┬──────────┐\n│ fiscalDat ┆ reportedC ┆ grossProf ┆ totalReve ┆ … ┆ comprehen ┆ ebit      ┆ ebitda    ┆ netIncom │\n│ eEnding   ┆ urrency   ┆ it        ┆ nue       ┆   ┆ siveIncom ┆ ---       ┆ ---       ┆ e        │\n│ ---       ┆ ---       ┆ ---       ┆ ---       ┆   ┆ eNetOfTax ┆ f64       ┆ f64       ┆ ---      │\n│ date      ┆ str       ┆ f64       ┆ f64       ┆   ┆ ---       ┆           ┆           ┆ f64      │\n│           ┆           ┆           ┆           ┆   ┆ f64       ┆           ┆           ┆          │\n╞═══════════╪═══════════╪═══════════╪═══════════╪═══╪═══════════╪═══════════╪═══════════╪══════════╡\n│ 2023-12-3 ┆ USD       ┆ 3.43394e8 ┆ 6.05717e8 ┆ … ┆ 2.3944e8  ┆ 3.03202e8 ┆ 4.68139e8 ┆ 2.3944e8 │\n│ 1         ┆           ┆           ┆           ┆   ┆           ┆           ┆           ┆          │\n│ 2022-12-3 ┆ USD       ┆ 3.23101e8 ┆ 6.03206e8 ┆ … ┆ 2.38982e8 ┆ 2.83709e8 ┆ 4.74763e8 ┆ 2.38982e │\n│ 1         ┆           ┆           ┆           ┆   ┆           ┆           ┆           ┆ 8        │\n│ 2021-06-3 ┆ USD       ┆ 3.33002e8 ┆ 6.48614e8 ┆ … ┆ 3.02532e8 ┆ 3.37602e8 ┆ null      ┆ 3.02532e │\n│ 0         ┆           ┆           ┆           ┆   ┆           ┆           ┆           ┆ 8        │\n│ 2020-06-3 ┆ USD       ┆ 2.36058e8 ┆ 4.98819e8 ┆ … ┆ 1.99343e8 ┆ 1.98945e8 ┆ null      ┆ 1.99343e │\n│ 0         ┆           ┆           ┆           ┆   ┆           ┆           ┆           ┆ 8        │\n│ 2019-06-3 ┆ USD       ┆ 1.78553e8 ┆ 4.23056e8 ┆ … ┆ 9.3825e7  ┆ 1.40707e8 ┆ null      ┆ 9.3825e7 │\n│ 0         ┆           ┆           ┆           ┆   ┆           ┆           ┆           ┆          │\n└───────────┴───────────┴───────────┴───────────┴───┴───────────┴───────────┴───────────┴──────────┘",
      "text/html": "<div><style>\n.dataframe > thead > tr,\n.dataframe > tbody > tr {\n  text-align: right;\n  white-space: pre-wrap;\n}\n</style>\n<small>shape: (5, 26)</small><table border=\"1\" class=\"dataframe\"><thead><tr><th>fiscalDateEnding</th><th>reportedCurrency</th><th>grossProfit</th><th>totalRevenue</th><th>costOfRevenue</th><th>costofGoodsAndServicesSold</th><th>operatingIncome</th><th>sellingGeneralAndAdministrative</th><th>researchAndDevelopment</th><th>operatingExpenses</th><th>investmentIncomeNet</th><th>netInterestIncome</th><th>interestIncome</th><th>interestExpense</th><th>nonInterestIncome</th><th>otherNonOperatingIncome</th><th>depreciation</th><th>depreciationAndAmortization</th><th>incomeBeforeTax</th><th>incomeTaxExpense</th><th>interestAndDebtExpense</th><th>netIncomeFromContinuingOperations</th><th>comprehensiveIncomeNetOfTax</th><th>ebit</th><th>ebitda</th><th>netIncome</th></tr><tr><td>date</td><td>str</td><td>f64</td><td>f64</td><td>f64</td><td>f64</td><td>f64</td><td>f64</td><td>f64</td><td>f64</td><td>f64</td><td>f64</td><td>f64</td><td>f64</td><td>f64</td><td>f64</td><td>f64</td><td>f64</td><td>f64</td><td>f64</td><td>f64</td><td>f64</td><td>f64</td><td>f64</td><td>f64</td><td>f64</td></tr></thead><tbody><tr><td>2023-12-31</td><td>&quot;USD&quot;</td><td>3.43394e8</td><td>6.05717e8</td><td>1.30284e8</td><td>9.0523e7</td><td>3.03202e8</td><td>3.9761e7</td><td>null</td><td>7.9953e7</td><td>null</td><td>-2.0915e7</td><td>9.952e6</td><td>3.0867e7</td><td>6.05717e8</td><td>null</td><td>431000.0</td><td>1.91054e8</td><td>2.81448e8</td><td>4.2008e7</td><td>null</td><td>2.40132e8</td><td>2.3944e8</td><td>3.03202e8</td><td>4.68139e8</td><td>2.3944e8</td></tr><tr><td>2022-12-31</td><td>&quot;USD&quot;</td><td>3.23101e8</td><td>6.03206e8</td><td>1.33541e8</td><td>9.4642e7</td><td>2.83709e8</td><td>3.4612e7</td><td>null</td><td>7.4004e7</td><td>null</td><td>-9.338e6</td><td>7.832e6</td><td>1.717e7</td><td>6.03206e8</td><td>null</td><td>493000.0</td><td>1.83222e8</td><td>2.71908e8</td><td>3.2926e7</td><td>null</td><td>2.39942e8</td><td>2.38982e8</td><td>2.83709e8</td><td>4.74763e8</td><td>2.38982e8</td></tr><tr><td>2021-06-30</td><td>&quot;USD&quot;</td><td>3.33002e8</td><td>6.48614e8</td><td>1.21285e8</td><td>9.2898e7</td><td>3.37602e8</td><td>2.8387e7</td><td>null</td><td>5.7693e7</td><td>null</td><td>-1.148e6</td><td>null</td><td>1.148e6</td><td>6.49762e8</td><td>null</td><td>356000.0</td><td>null</td><td>3.39399e8</td><td>3.6867e7</td><td>1.148e6</td><td>3.02776e8</td><td>3.02532e8</td><td>3.37602e8</td><td>null</td><td>3.02532e8</td></tr><tr><td>2020-06-30</td><td>&quot;USD&quot;</td><td>2.36058e8</td><td>4.98819e8</td><td>1.15426e8</td><td>8.389e7</td><td>1.98945e8</td><td>3.0195e7</td><td>null</td><td>3.6726e7</td><td>null</td><td>-1.136e6</td><td>null</td><td>1.136e6</td><td>4.98819e8</td><td>null</td><td>387000.0</td><td>null</td><td>1.95689e8</td><td>-3.654e6</td><td>1.136e6</td><td>1.9625e8</td><td>1.99343e8</td><td>1.98945e8</td><td>null</td><td>1.99343e8</td></tr><tr><td>2019-06-30</td><td>&quot;USD&quot;</td><td>1.78553e8</td><td>4.23056e8</td><td>1.08023e8</td><td>7.7535e7</td><td>1.40707e8</td><td>3.0488e7</td><td>null</td><td>3.7646e7</td><td>null</td><td>-1.5288e7</td><td>null</td><td>1.5288e7</td><td>4.23056e8</td><td>null</td><td>200000.0</td><td>null</td><td>1.11323e8</td><td>1.7498e7</td><td>1.5288e7</td><td>8.9079e7</td><td>9.3825e7</td><td>1.40707e8</td><td>null</td><td>9.3825e7</td></tr></tbody></table></div>"
     },
     "execution_count": 4,
     "metadata": {},
     "output_type": "execute_result"
    }
   ],
   "source": [
    "income_schema = [\n",
    "    # 'fiscalDateEnding',\n",
    "    # 'reportedCurrency',\n",
    "    'grossProfit',\n",
    "    'totalRevenue',\n",
    "    'costOfRevenue',\n",
    "    'costofGoodsAndServicesSold',\n",
    "    'operatingIncome',\n",
    "    'sellingGeneralAndAdministrative',\n",
    "    'researchAndDevelopment',\n",
    "    'operatingExpenses',\n",
    "    'investmentIncomeNet',\n",
    "    'netInterestIncome',\n",
    "    'interestIncome',\n",
    "    'interestExpense',\n",
    "    'nonInterestIncome',\n",
    "    'otherNonOperatingIncome',\n",
    "    'depreciation',\n",
    "    'depreciationAndAmortization',\n",
    "    'incomeBeforeTax',\n",
    "    'incomeTaxExpense',\n",
    "    'interestAndDebtExpense',\n",
    "    'netIncomeFromContinuingOperations',\n",
    "    'comprehensiveIncomeNetOfTax',\n",
    "    'ebit',\n",
    "    'ebitda',\n",
    "    'netIncome'\n",
    "]\n",
    "\n",
    "for column in income_schema:\n",
    "    df_income_annual = df_income_annual.with_columns(pl.col(column).cast(pl.Float64, strict=False))\n",
    "    df_income_quarterly = df_income_quarterly.with_columns(pl.col(column).cast(pl.Float64, strict=False))\n",
    "\n",
    "df_income_annual = df_income_annual.with_columns(pl.col('fiscalDateEnding').str.to_date('%Y-%m-%d'))\n",
    "df_income_quarterly = df_income_quarterly.with_columns(pl.col('fiscalDateEnding').str.to_date('%Y-%m-%d'))\n",
    "df_income_annual.head()"
   ],
   "metadata": {
    "collapsed": false,
    "ExecuteTime": {
     "end_time": "2024-12-31T17:43:37.508601Z",
     "start_time": "2024-12-31T17:43:37.496709Z"
    }
   },
   "id": "67a3a793a3a52e0a",
   "execution_count": 4
  },
  {
   "cell_type": "code",
   "outputs": [],
   "source": [
    "BASE_DIR = 'stock_fundamentals'\n",
    "ticker = 'RGLD'\n",
    "# load the data to s3\n",
    "bucket = os.environ[\"S3_ARB_BUCKET\"]\n",
    "aws_profile = os.environ[\"S3_PROFILE\"]\n",
    "# create the s3io object \n",
    "aws_s3 = S3IO(bucket=bucket, profile=aws_profile)\n",
    "\n",
    "s3_path = f\"{BASE_DIR}/income/annual/{ticker}/data.parq\"\n",
    "aws_s3.s3_write_parquet(df=df_income_annual, file_path=s3_path)"
   ],
   "metadata": {
    "collapsed": false,
    "ExecuteTime": {
     "end_time": "2024-12-31T17:47:36.532868Z",
     "start_time": "2024-12-31T17:47:36.192224Z"
    }
   },
   "id": "3d4bcb3a4b0687d4",
   "execution_count": 9
  },
  {
   "cell_type": "code",
   "outputs": [
    {
     "data": {
      "text/plain": "shape: (5, 26)\n┌───────────┬───────────┬───────────┬───────────┬───┬───────────┬───────────┬───────────┬──────────┐\n│ fiscalDat ┆ reportedC ┆ grossProf ┆ totalReve ┆ … ┆ comprehen ┆ ebit      ┆ ebitda    ┆ netIncom │\n│ eEnding   ┆ urrency   ┆ it        ┆ nue       ┆   ┆ siveIncom ┆ ---       ┆ ---       ┆ e        │\n│ ---       ┆ ---       ┆ ---       ┆ ---       ┆   ┆ eNetOfTax ┆ f64       ┆ f64       ┆ ---      │\n│ date      ┆ str       ┆ f64       ┆ f64       ┆   ┆ ---       ┆           ┆           ┆ f64      │\n│           ┆           ┆           ┆           ┆   ┆ f64       ┆           ┆           ┆          │\n╞═══════════╪═══════════╪═══════════╪═══════════╪═══╪═══════════╪═══════════╪═══════════╪══════════╡\n│ 2023-12-3 ┆ USD       ┆ 3.43394e8 ┆ 6.05717e8 ┆ … ┆ 2.3944e8  ┆ 3.03202e8 ┆ 4.68139e8 ┆ 2.3944e8 │\n│ 1         ┆           ┆           ┆           ┆   ┆           ┆           ┆           ┆          │\n│ 2022-12-3 ┆ USD       ┆ 3.23101e8 ┆ 6.03206e8 ┆ … ┆ 2.38982e8 ┆ 2.83709e8 ┆ 4.74763e8 ┆ 2.38982e │\n│ 1         ┆           ┆           ┆           ┆   ┆           ┆           ┆           ┆ 8        │\n│ 2021-06-3 ┆ USD       ┆ 3.33002e8 ┆ 6.48614e8 ┆ … ┆ 3.02532e8 ┆ 3.37602e8 ┆ null      ┆ 3.02532e │\n│ 0         ┆           ┆           ┆           ┆   ┆           ┆           ┆           ┆ 8        │\n│ 2020-06-3 ┆ USD       ┆ 2.36058e8 ┆ 4.98819e8 ┆ … ┆ 1.99343e8 ┆ 1.98945e8 ┆ null      ┆ 1.99343e │\n│ 0         ┆           ┆           ┆           ┆   ┆           ┆           ┆           ┆ 8        │\n│ 2019-06-3 ┆ USD       ┆ 1.78553e8 ┆ 4.23056e8 ┆ … ┆ 9.3825e7  ┆ 1.40707e8 ┆ null      ┆ 9.3825e7 │\n│ 0         ┆           ┆           ┆           ┆   ┆           ┆           ┆           ┆          │\n└───────────┴───────────┴───────────┴───────────┴───┴───────────┴───────────┴───────────┴──────────┘",
      "text/html": "<div><style>\n.dataframe > thead > tr,\n.dataframe > tbody > tr {\n  text-align: right;\n  white-space: pre-wrap;\n}\n</style>\n<small>shape: (5, 26)</small><table border=\"1\" class=\"dataframe\"><thead><tr><th>fiscalDateEnding</th><th>reportedCurrency</th><th>grossProfit</th><th>totalRevenue</th><th>costOfRevenue</th><th>costofGoodsAndServicesSold</th><th>operatingIncome</th><th>sellingGeneralAndAdministrative</th><th>researchAndDevelopment</th><th>operatingExpenses</th><th>investmentIncomeNet</th><th>netInterestIncome</th><th>interestIncome</th><th>interestExpense</th><th>nonInterestIncome</th><th>otherNonOperatingIncome</th><th>depreciation</th><th>depreciationAndAmortization</th><th>incomeBeforeTax</th><th>incomeTaxExpense</th><th>interestAndDebtExpense</th><th>netIncomeFromContinuingOperations</th><th>comprehensiveIncomeNetOfTax</th><th>ebit</th><th>ebitda</th><th>netIncome</th></tr><tr><td>date</td><td>str</td><td>f64</td><td>f64</td><td>f64</td><td>f64</td><td>f64</td><td>f64</td><td>f64</td><td>f64</td><td>f64</td><td>f64</td><td>f64</td><td>f64</td><td>f64</td><td>f64</td><td>f64</td><td>f64</td><td>f64</td><td>f64</td><td>f64</td><td>f64</td><td>f64</td><td>f64</td><td>f64</td><td>f64</td></tr></thead><tbody><tr><td>2023-12-31</td><td>&quot;USD&quot;</td><td>3.43394e8</td><td>6.05717e8</td><td>1.30284e8</td><td>9.0523e7</td><td>3.03202e8</td><td>3.9761e7</td><td>null</td><td>7.9953e7</td><td>null</td><td>-2.0915e7</td><td>9.952e6</td><td>3.0867e7</td><td>6.05717e8</td><td>null</td><td>431000.0</td><td>1.91054e8</td><td>2.81448e8</td><td>4.2008e7</td><td>null</td><td>2.40132e8</td><td>2.3944e8</td><td>3.03202e8</td><td>4.68139e8</td><td>2.3944e8</td></tr><tr><td>2022-12-31</td><td>&quot;USD&quot;</td><td>3.23101e8</td><td>6.03206e8</td><td>1.33541e8</td><td>9.4642e7</td><td>2.83709e8</td><td>3.4612e7</td><td>null</td><td>7.4004e7</td><td>null</td><td>-9.338e6</td><td>7.832e6</td><td>1.717e7</td><td>6.03206e8</td><td>null</td><td>493000.0</td><td>1.83222e8</td><td>2.71908e8</td><td>3.2926e7</td><td>null</td><td>2.39942e8</td><td>2.38982e8</td><td>2.83709e8</td><td>4.74763e8</td><td>2.38982e8</td></tr><tr><td>2021-06-30</td><td>&quot;USD&quot;</td><td>3.33002e8</td><td>6.48614e8</td><td>1.21285e8</td><td>9.2898e7</td><td>3.37602e8</td><td>2.8387e7</td><td>null</td><td>5.7693e7</td><td>null</td><td>-1.148e6</td><td>null</td><td>1.148e6</td><td>6.49762e8</td><td>null</td><td>356000.0</td><td>null</td><td>3.39399e8</td><td>3.6867e7</td><td>1.148e6</td><td>3.02776e8</td><td>3.02532e8</td><td>3.37602e8</td><td>null</td><td>3.02532e8</td></tr><tr><td>2020-06-30</td><td>&quot;USD&quot;</td><td>2.36058e8</td><td>4.98819e8</td><td>1.15426e8</td><td>8.389e7</td><td>1.98945e8</td><td>3.0195e7</td><td>null</td><td>3.6726e7</td><td>null</td><td>-1.136e6</td><td>null</td><td>1.136e6</td><td>4.98819e8</td><td>null</td><td>387000.0</td><td>null</td><td>1.95689e8</td><td>-3.654e6</td><td>1.136e6</td><td>1.9625e8</td><td>1.99343e8</td><td>1.98945e8</td><td>null</td><td>1.99343e8</td></tr><tr><td>2019-06-30</td><td>&quot;USD&quot;</td><td>1.78553e8</td><td>4.23056e8</td><td>1.08023e8</td><td>7.7535e7</td><td>1.40707e8</td><td>3.0488e7</td><td>null</td><td>3.7646e7</td><td>null</td><td>-1.5288e7</td><td>null</td><td>1.5288e7</td><td>4.23056e8</td><td>null</td><td>200000.0</td><td>null</td><td>1.11323e8</td><td>1.7498e7</td><td>1.5288e7</td><td>8.9079e7</td><td>9.3825e7</td><td>1.40707e8</td><td>null</td><td>9.3825e7</td></tr></tbody></table></div>"
     },
     "execution_count": 11,
     "metadata": {},
     "output_type": "execute_result"
    }
   ],
   "source": [
    "# read the data\n",
    "df_read = aws_s3.s3_read_parquet(file_path=s3_path)\n",
    "df_read.head()"
   ],
   "metadata": {
    "collapsed": false,
    "ExecuteTime": {
     "end_time": "2024-12-31T17:48:30.853053Z",
     "start_time": "2024-12-31T17:48:30.700857Z"
    }
   },
   "id": "bbc9fa7440ed20e2",
   "execution_count": 11
  },
  {
   "cell_type": "markdown",
   "source": [
    "# Performing SCD2\n",
    "\n",
    "AlphaVantage when a request is made loads all the historical data. Because we will be setting up a job that makes calls continuously to retrieve new information we need a way to update old records if there was a change to the data and add the new records to our parquet file. The fundamental data will be considered a SCD2 type file given new data for the quarterly will be on a quarterly basis and the yearly will be on a yearly basis. For this type of data we are not worried about deleting any information. Only what is going to be updated and what will be added. A flag for is current will be added and received time to know when the record was added. This offers a traceback of the records and when they were ran."
   ],
   "metadata": {
    "collapsed": false
   },
   "id": "31bcffa5b91a5bbe"
  },
  {
   "cell_type": "code",
   "execution_count": 9,
   "outputs": [
    {
     "data": {
      "text/plain": "shape: (3, 6)\n┌──────────────────┬─────────────┬──────────────┬───────────┬────────────┬─────────────────┐\n│ fiscalDateEnding ┆ grossProfit ┆ totalRevenue ┆ netIncome ┆ is_current ┆ update_time     │\n│ ---              ┆ ---         ┆ ---          ┆ ---       ┆ ---        ┆ ---             │\n│ str              ┆ i64         ┆ i64          ┆ i64       ┆ bool       ┆ datetime[μs]    │\n╞══════════════════╪═════════════╪══════════════╪═══════════╪════════════╪═════════════════╡\n│ 2021-12-31       ┆ 100         ┆ 1000         ┆ 10        ┆ true       ┆ 2025-01-12      │\n│                  ┆             ┆              ┆           ┆            ┆ 11:47:34.942200 │\n│ 2020-12-31       ┆ 200         ┆ 2000         ┆ 20        ┆ true       ┆ 2025-01-12      │\n│                  ┆             ┆              ┆           ┆            ┆ 11:47:34.943662 │\n│ 2019-12-31       ┆ 300         ┆ 3000         ┆ 30        ┆ true       ┆ 2025-01-12      │\n│                  ┆             ┆              ┆           ┆            ┆ 11:47:34.943663 │\n└──────────────────┴─────────────┴──────────────┴───────────┴────────────┴─────────────────┘",
      "text/html": "<div><style>\n.dataframe > thead > tr,\n.dataframe > tbody > tr {\n  text-align: right;\n  white-space: pre-wrap;\n}\n</style>\n<small>shape: (3, 6)</small><table border=\"1\" class=\"dataframe\"><thead><tr><th>fiscalDateEnding</th><th>grossProfit</th><th>totalRevenue</th><th>netIncome</th><th>is_current</th><th>update_time</th></tr><tr><td>str</td><td>i64</td><td>i64</td><td>i64</td><td>bool</td><td>datetime[μs]</td></tr></thead><tbody><tr><td>&quot;2021-12-31&quot;</td><td>100</td><td>1000</td><td>10</td><td>true</td><td>2025-01-12 11:47:34.942200</td></tr><tr><td>&quot;2020-12-31&quot;</td><td>200</td><td>2000</td><td>20</td><td>true</td><td>2025-01-12 11:47:34.943662</td></tr><tr><td>&quot;2019-12-31&quot;</td><td>300</td><td>3000</td><td>30</td><td>true</td><td>2025-01-12 11:47:34.943663</td></tr></tbody></table></div>"
     },
     "execution_count": 9,
     "metadata": {},
     "output_type": "execute_result"
    }
   ],
   "source": [
    "# create a sample data frame to show how the SCD2 will work\n",
    "df_target = pl.DataFrame({\n",
    "    'fiscalDateEnding': ['2021-12-31', '2020-12-31', '2019-12-31'],\n",
    "    'grossProfit': [100, 200, 300],\n",
    "    'totalRevenue': [1000, 2000, 3000],\n",
    "    'netIncome': [10, 20, 30],\n",
    "    'is_current': [True, True, True],\n",
    "    'update_time': [datetime.now(), datetime.now(), datetime.now()]\n",
    "})\n",
    "df_target"
   ],
   "metadata": {
    "collapsed": false,
    "ExecuteTime": {
     "end_time": "2025-01-12T16:47:35.015135Z",
     "start_time": "2025-01-12T16:47:34.970661Z"
    }
   },
   "id": "c8eee180a525cb1f"
  },
  {
   "cell_type": "code",
   "execution_count": 5,
   "outputs": [
    {
     "data": {
      "text/plain": "shape: (4, 4)\n┌──────────────────┬─────────────┬──────────────┬───────────┐\n│ fiscalDateEnding ┆ grossProfit ┆ totalRevenue ┆ netIncome │\n│ ---              ┆ ---         ┆ ---          ┆ ---       │\n│ str              ┆ i64         ┆ i64          ┆ i64       │\n╞══════════════════╪═════════════╪══════════════╪═══════════╡\n│ 2021-12-31       ┆ 200         ┆ 2000         ┆ 10        │\n│ 2020-12-31       ┆ 200         ┆ 2000         ┆ 20        │\n│ 2019-12-31       ┆ 300         ┆ 4000         ┆ 30        │\n│ 2018-12-31       ┆ 400         ┆ 3000         ┆ 40        │\n└──────────────────┴─────────────┴──────────────┴───────────┘",
      "text/html": "<div><style>\n.dataframe > thead > tr,\n.dataframe > tbody > tr {\n  text-align: right;\n  white-space: pre-wrap;\n}\n</style>\n<small>shape: (4, 4)</small><table border=\"1\" class=\"dataframe\"><thead><tr><th>fiscalDateEnding</th><th>grossProfit</th><th>totalRevenue</th><th>netIncome</th></tr><tr><td>str</td><td>i64</td><td>i64</td><td>i64</td></tr></thead><tbody><tr><td>&quot;2021-12-31&quot;</td><td>200</td><td>2000</td><td>10</td></tr><tr><td>&quot;2020-12-31&quot;</td><td>200</td><td>2000</td><td>20</td></tr><tr><td>&quot;2019-12-31&quot;</td><td>300</td><td>4000</td><td>30</td></tr><tr><td>&quot;2018-12-31&quot;</td><td>400</td><td>3000</td><td>40</td></tr></tbody></table></div>"
     },
     "execution_count": 5,
     "metadata": {},
     "output_type": "execute_result"
    }
   ],
   "source": [
    "# create a new data frame with a record that has been updated and a new record\n",
    "df_source = pl.DataFrame({\n",
    "    'fiscalDateEnding': ['2021-12-31', '2020-12-31', '2019-12-31', '2018-12-31'],\n",
    "    'grossProfit': [200, 200, 300, 400],\n",
    "    'totalRevenue': [2000, 2000, 4000, 3000],\n",
    "    'netIncome': [10, 20, 30, 40],\n",
    "})\n",
    "df_source"
   ],
   "metadata": {
    "collapsed": false,
    "ExecuteTime": {
     "end_time": "2025-01-05T15:44:33.779140Z",
     "start_time": "2025-01-05T15:44:33.762296Z"
    }
   },
   "id": "ea76a28f95378ec2"
  },
  {
   "cell_type": "code",
   "execution_count": 6,
   "outputs": [
    {
     "data": {
      "text/plain": "shape: (3, 9)\n┌───────────┬───────────┬───────────┬───────────┬───┬───────────┬───────────┬───────────┬──────────┐\n│ fiscalDat ┆ grossProf ┆ totalReve ┆ netIncome ┆ … ┆ update_ti ┆ grossProf ┆ totalReve ┆ netIncom │\n│ eEnding   ┆ it        ┆ nue       ┆ ---       ┆   ┆ me        ┆ it_right  ┆ nue_right ┆ e_right  │\n│ ---       ┆ ---       ┆ ---       ┆ i64       ┆   ┆ ---       ┆ ---       ┆ ---       ┆ ---      │\n│ str       ┆ i64       ┆ i64       ┆           ┆   ┆ datetime[ ┆ i64       ┆ i64       ┆ i64      │\n│           ┆           ┆           ┆           ┆   ┆ μs]       ┆           ┆           ┆          │\n╞═══════════╪═══════════╪═══════════╪═══════════╪═══╪═══════════╪═══════════╪═══════════╪══════════╡\n│ 2021-12-3 ┆ 100       ┆ 1000      ┆ 10        ┆ … ┆ 2025-01-0 ┆ 200       ┆ 2000      ┆ 10       │\n│ 1         ┆           ┆           ┆           ┆   ┆ 5 10:39:1 ┆           ┆           ┆          │\n│           ┆           ┆           ┆           ┆   ┆ 5.248800  ┆           ┆           ┆          │\n│ 2020-12-3 ┆ 200       ┆ 2000      ┆ 20        ┆ … ┆ 2025-01-0 ┆ 200       ┆ 2000      ┆ 20       │\n│ 1         ┆           ┆           ┆           ┆   ┆ 5 10:39:1 ┆           ┆           ┆          │\n│           ┆           ┆           ┆           ┆   ┆ 5.248858  ┆           ┆           ┆          │\n│ 2019-12-3 ┆ 300       ┆ 3000      ┆ 30        ┆ … ┆ 2025-01-0 ┆ 300       ┆ 4000      ┆ 30       │\n│ 1         ┆           ┆           ┆           ┆   ┆ 5 10:39:1 ┆           ┆           ┆          │\n│           ┆           ┆           ┆           ┆   ┆ 5.248859  ┆           ┆           ┆          │\n└───────────┴───────────┴───────────┴───────────┴───┴───────────┴───────────┴───────────┴──────────┘",
      "text/html": "<div><style>\n.dataframe > thead > tr,\n.dataframe > tbody > tr {\n  text-align: right;\n  white-space: pre-wrap;\n}\n</style>\n<small>shape: (3, 9)</small><table border=\"1\" class=\"dataframe\"><thead><tr><th>fiscalDateEnding</th><th>grossProfit</th><th>totalRevenue</th><th>netIncome</th><th>is_current</th><th>update_time</th><th>grossProfit_right</th><th>totalRevenue_right</th><th>netIncome_right</th></tr><tr><td>str</td><td>i64</td><td>i64</td><td>i64</td><td>bool</td><td>datetime[μs]</td><td>i64</td><td>i64</td><td>i64</td></tr></thead><tbody><tr><td>&quot;2021-12-31&quot;</td><td>100</td><td>1000</td><td>10</td><td>true</td><td>2025-01-05 10:39:15.248800</td><td>200</td><td>2000</td><td>10</td></tr><tr><td>&quot;2020-12-31&quot;</td><td>200</td><td>2000</td><td>20</td><td>true</td><td>2025-01-05 10:39:15.248858</td><td>200</td><td>2000</td><td>20</td></tr><tr><td>&quot;2019-12-31&quot;</td><td>300</td><td>3000</td><td>30</td><td>true</td><td>2025-01-05 10:39:15.248859</td><td>300</td><td>4000</td><td>30</td></tr></tbody></table></div>"
     },
     "execution_count": 6,
     "metadata": {},
     "output_type": "execute_result"
    }
   ],
   "source": [
    "# merge the two data frames on the fiscalDateEnding to find the records that need to be updated\n",
    "updated_records_df = df_sample.filter(\n",
    "    pl.col('is_current') == True,\n",
    ").join(\n",
    "    other=df_new,\n",
    "    on='fiscalDateEnding',\n",
    "    how='inner'\n",
    ")\n",
    "\n",
    "updated_records_df"
   ],
   "metadata": {
    "collapsed": false,
    "ExecuteTime": {
     "end_time": "2025-01-05T15:59:15.870675Z",
     "start_time": "2025-01-05T15:59:15.831282Z"
    }
   },
   "id": "51f049556aa0ee89"
  },
  {
   "cell_type": "code",
   "execution_count": 13,
   "outputs": [
    {
     "data": {
      "text/plain": "shape: (2, 6)\n┌──────────────────┬─────────────┬──────────────┬───────────┬────────────┬─────────────────┐\n│ fiscalDateEnding ┆ grossProfit ┆ totalRevenue ┆ netIncome ┆ is_current ┆ update_time     │\n│ ---              ┆ ---         ┆ ---          ┆ ---       ┆ ---        ┆ ---             │\n│ str              ┆ i64         ┆ i64          ┆ i64       ┆ bool       ┆ datetime[μs]    │\n╞══════════════════╪═════════════╪══════════════╪═══════════╪════════════╪═════════════════╡\n│ 2021-12-31       ┆ 200         ┆ 2000         ┆ 10        ┆ true       ┆ 2025-01-05      │\n│                  ┆             ┆              ┆           ┆            ┆ 12:12:36.766524 │\n│ 2019-12-31       ┆ 300         ┆ 4000         ┆ 30        ┆ true       ┆ 2025-01-05      │\n│                  ┆             ┆              ┆           ┆            ┆ 12:12:36.766524 │\n└──────────────────┴─────────────┴──────────────┴───────────┴────────────┴─────────────────┘",
      "text/html": "<div><style>\n.dataframe > thead > tr,\n.dataframe > tbody > tr {\n  text-align: right;\n  white-space: pre-wrap;\n}\n</style>\n<small>shape: (2, 6)</small><table border=\"1\" class=\"dataframe\"><thead><tr><th>fiscalDateEnding</th><th>grossProfit</th><th>totalRevenue</th><th>netIncome</th><th>is_current</th><th>update_time</th></tr><tr><td>str</td><td>i64</td><td>i64</td><td>i64</td><td>bool</td><td>datetime[μs]</td></tr></thead><tbody><tr><td>&quot;2021-12-31&quot;</td><td>200</td><td>2000</td><td>10</td><td>true</td><td>2025-01-05 12:12:36.766524</td></tr><tr><td>&quot;2019-12-31&quot;</td><td>300</td><td>4000</td><td>30</td><td>true</td><td>2025-01-05 12:12:36.766524</td></tr></tbody></table></div>"
     },
     "execution_count": 13,
     "metadata": {},
     "output_type": "execute_result"
    }
   ],
   "source": [
    "# find the records that differ between the two data frames\n",
    "df_diff = df_new.join(df_sample, on='fiscalDateEnding', suffix='_df2') .filter(pl.any_horizontal(\n",
    "                                                                            pl.col(x).ne_missing(pl.col(f\"{x}_df2\"))\n",
    "                                                                                for x in df_new.columns if x!='fiscalDateEnding'\n",
    "                                                                            )).select(df_new.columns)\n",
    "# add the update time and is_current flag to the df_diff\n",
    "df_diff = df_diff.with_columns(\n",
    "    pl.lit(True).alias(\"is_current\"),\n",
    "    pl.lit(datetime.now()).alias(\"update_time\")\n",
    ")\n",
    "\n",
    "df_diff"
   ],
   "metadata": {
    "collapsed": false,
    "ExecuteTime": {
     "end_time": "2025-01-05T17:12:36.792232Z",
     "start_time": "2025-01-05T17:12:36.767466Z"
    }
   },
   "id": "b06c416c27f7a2b7"
  },
  {
   "cell_type": "code",
   "execution_count": 16,
   "outputs": [
    {
     "data": {
      "text/plain": "shape: (5, 6)\n┌──────────────────┬─────────────┬──────────────┬───────────┬────────────┬─────────────────┐\n│ fiscalDateEnding ┆ grossProfit ┆ totalRevenue ┆ netIncome ┆ is_current ┆ update_time     │\n│ ---              ┆ ---         ┆ ---          ┆ ---       ┆ ---        ┆ ---             │\n│ str              ┆ i64         ┆ i64          ┆ i64       ┆ bool       ┆ datetime[μs]    │\n╞══════════════════╪═════════════╪══════════════╪═══════════╪════════════╪═════════════════╡\n│ 2019-12-31       ┆ 300         ┆ 3000         ┆ 30        ┆ false      ┆ 2025-01-05      │\n│                  ┆             ┆              ┆           ┆            ┆ 10:39:15.248859 │\n│ 2019-12-31       ┆ 300         ┆ 4000         ┆ 30        ┆ true       ┆ 2025-01-05      │\n│                  ┆             ┆              ┆           ┆            ┆ 12:12:36.766524 │\n│ 2020-12-31       ┆ 200         ┆ 2000         ┆ 20        ┆ true       ┆ 2025-01-05      │\n│                  ┆             ┆              ┆           ┆            ┆ 10:39:15.248858 │\n│ 2021-12-31       ┆ 100         ┆ 1000         ┆ 10        ┆ false      ┆ 2025-01-05      │\n│                  ┆             ┆              ┆           ┆            ┆ 10:39:15.248800 │\n│ 2021-12-31       ┆ 200         ┆ 2000         ┆ 10        ┆ true       ┆ 2025-01-05      │\n│                  ┆             ┆              ┆           ┆            ┆ 12:12:36.766524 │\n└──────────────────┴─────────────┴──────────────┴───────────┴────────────┴─────────────────┘",
      "text/html": "<div><style>\n.dataframe > thead > tr,\n.dataframe > tbody > tr {\n  text-align: right;\n  white-space: pre-wrap;\n}\n</style>\n<small>shape: (5, 6)</small><table border=\"1\" class=\"dataframe\"><thead><tr><th>fiscalDateEnding</th><th>grossProfit</th><th>totalRevenue</th><th>netIncome</th><th>is_current</th><th>update_time</th></tr><tr><td>str</td><td>i64</td><td>i64</td><td>i64</td><td>bool</td><td>datetime[μs]</td></tr></thead><tbody><tr><td>&quot;2019-12-31&quot;</td><td>300</td><td>3000</td><td>30</td><td>false</td><td>2025-01-05 10:39:15.248859</td></tr><tr><td>&quot;2019-12-31&quot;</td><td>300</td><td>4000</td><td>30</td><td>true</td><td>2025-01-05 12:12:36.766524</td></tr><tr><td>&quot;2020-12-31&quot;</td><td>200</td><td>2000</td><td>20</td><td>true</td><td>2025-01-05 10:39:15.248858</td></tr><tr><td>&quot;2021-12-31&quot;</td><td>100</td><td>1000</td><td>10</td><td>false</td><td>2025-01-05 10:39:15.248800</td></tr><tr><td>&quot;2021-12-31&quot;</td><td>200</td><td>2000</td><td>10</td><td>true</td><td>2025-01-05 12:12:36.766524</td></tr></tbody></table></div>"
     },
     "execution_count": 16,
     "metadata": {},
     "output_type": "execute_result"
    }
   ],
   "source": [
    "# get the list of fiscalDateEnding that are in the df_diff\n",
    "fiscal_date_list = df_diff.select('fiscalDateEnding').to_series()\n",
    "# update the is current flag for the old records\n",
    "df_sample = df_sample.with_columns(\n",
    "                is_current=pl.when(pl.col('fiscalDateEnding').is_in(fiscal_date_list))\n",
    "                        .then(pl.lit(False))\n",
    "                        .otherwise(pl.col('is_current')))\n",
    "# concat the two data frames and order by fiscalDateEnding\n",
    "df_sample = pl.concat([df_sample, df_diff]).sort('fiscalDateEnding')\n",
    "df_sample"
   ],
   "metadata": {
    "collapsed": false,
    "ExecuteTime": {
     "end_time": "2025-01-05T17:29:20.221092Z",
     "start_time": "2025-01-05T17:29:20.186825Z"
    }
   },
   "id": "87c6c7726925db1d"
  },
  {
   "cell_type": "markdown",
   "source": [
    "## Performing updates to the Schema if it changes\n",
    "\n",
    "Scenerios for testing:\n",
    "\n",
    "- A new column is introduced\n",
    "- A column is removed\n",
    "- A column is renamed"
   ],
   "metadata": {
    "collapsed": false
   },
   "id": "b5ad9edfc2e4e6b1"
  },
  {
   "cell_type": "code",
   "execution_count": 8,
   "outputs": [],
   "source": [
    "df_source_new_col = pl.DataFrame({\n",
    "    'fiscalDateEnding': ['2021-12-31', '2020-12-31', '2019-12-31', '2018-12-31'],\n",
    "    'grossProfit': [200, 200, 300, 400],\n",
    "    'totalRevenue': [2000, 2000, 4000, 3000],\n",
    "    'totalExpenses': [100, 200, 300, 400],\n",
    "    'netIncome': [10, 20, 30, 40],\n",
    "})\n",
    "\n",
    "df_source_remove_col = pl.DataFrame({\n",
    "    'fiscalDateEnding': ['2021-12-31', '2020-12-31', '2019-12-31', '2018-12-31'],\n",
    "    'grossProfit': [200, 200, 300, 400],\n",
    "    'netIncome': [10, 20, 30, 40],\n",
    "})\n",
    "\n",
    "df_source_rename_col = pl.DataFrame({\n",
    "    'fiscalDateEnding': ['2021-12-31', '2020-12-31', '2019-12-31', '2018-12-31'],\n",
    "    'grossProfit': [200, 200, 300, 400],\n",
    "    'totalRevenues_gold': [2000, 2000, 4000, 3000],\n",
    "    'netIncome': [10, 20, 30, 40],\n",
    "})"
   ],
   "metadata": {
    "collapsed": false,
    "ExecuteTime": {
     "end_time": "2025-01-12T16:47:19.720233Z",
     "start_time": "2025-01-12T16:47:19.684148Z"
    }
   },
   "id": "c8de085d4072e2e1"
  },
  {
   "cell_type": "code",
   "execution_count": 10,
   "outputs": [
    {
     "data": {
      "text/plain": "shape: (3, 7)\n┌──────────────┬─────────────┬──────────────┬───────────┬────────────┬──────────────┬──────────────┐\n│ fiscalDateEn ┆ grossProfit ┆ totalRevenue ┆ netIncome ┆ is_current ┆ update_time  ┆ totalExpense │\n│ ding         ┆ ---         ┆ ---          ┆ ---       ┆ ---        ┆ ---          ┆ s            │\n│ ---          ┆ i64         ┆ i64          ┆ i64       ┆ bool       ┆ datetime[μs] ┆ ---          │\n│ str          ┆             ┆              ┆           ┆            ┆              ┆ i64          │\n╞══════════════╪═════════════╪══════════════╪═══════════╪════════════╪══════════════╪══════════════╡\n│ 2021-12-31   ┆ 100         ┆ 1000         ┆ 10        ┆ true       ┆ 2025-01-12   ┆ 100          │\n│              ┆             ┆              ┆           ┆            ┆ 11:47:34.942 ┆              │\n│              ┆             ┆              ┆           ┆            ┆ 200          ┆              │\n│ 2020-12-31   ┆ 200         ┆ 2000         ┆ 20        ┆ true       ┆ 2025-01-12   ┆ 200          │\n│              ┆             ┆              ┆           ┆            ┆ 11:47:34.943 ┆              │\n│              ┆             ┆              ┆           ┆            ┆ 662          ┆              │\n│ 2019-12-31   ┆ 300         ┆ 3000         ┆ 30        ┆ true       ┆ 2025-01-12   ┆ 300          │\n│              ┆             ┆              ┆           ┆            ┆ 11:47:34.943 ┆              │\n│              ┆             ┆              ┆           ┆            ┆ 663          ┆              │\n└──────────────┴─────────────┴──────────────┴───────────┴────────────┴──────────────┴──────────────┘",
      "text/html": "<div><style>\n.dataframe > thead > tr,\n.dataframe > tbody > tr {\n  text-align: right;\n  white-space: pre-wrap;\n}\n</style>\n<small>shape: (3, 7)</small><table border=\"1\" class=\"dataframe\"><thead><tr><th>fiscalDateEnding</th><th>grossProfit</th><th>totalRevenue</th><th>netIncome</th><th>is_current</th><th>update_time</th><th>totalExpenses</th></tr><tr><td>str</td><td>i64</td><td>i64</td><td>i64</td><td>bool</td><td>datetime[μs]</td><td>i64</td></tr></thead><tbody><tr><td>&quot;2021-12-31&quot;</td><td>100</td><td>1000</td><td>10</td><td>true</td><td>2025-01-12 11:47:34.942200</td><td>100</td></tr><tr><td>&quot;2020-12-31&quot;</td><td>200</td><td>2000</td><td>20</td><td>true</td><td>2025-01-12 11:47:34.943662</td><td>200</td></tr><tr><td>&quot;2019-12-31&quot;</td><td>300</td><td>3000</td><td>30</td><td>true</td><td>2025-01-12 11:47:34.943663</td><td>300</td></tr></tbody></table></div>"
     },
     "execution_count": 10,
     "metadata": {},
     "output_type": "execute_result"
    }
   ],
   "source": [
    "# get the new columns and merge to the target data frame\n",
    "new_column = list(set(df_source_new_col.columns) - set(df_target.columns))\n",
    "new_column.append('fiscalDateEnding')\n",
    "# join the dataframe on the fiscalDateEnding\n",
    "df_target_new_col = df_target.join(df_source_new_col.select(new_column), on='fiscalDateEnding', how='left')\n",
    "df_target_new_col"
   ],
   "metadata": {
    "collapsed": false,
    "ExecuteTime": {
     "end_time": "2025-01-12T16:48:19.829417Z",
     "start_time": "2025-01-12T16:48:19.790837Z"
    }
   },
   "id": "7d82840a956e57ac"
  },
  {
   "cell_type": "code",
   "execution_count": 11,
   "outputs": [
    {
     "data": {
      "text/plain": "shape: (4, 4)\n┌──────────────────┬─────────────┬───────────┬──────────────┐\n│ fiscalDateEnding ┆ grossProfit ┆ netIncome ┆ totalRevenue │\n│ ---              ┆ ---         ┆ ---       ┆ ---          │\n│ str              ┆ i64         ┆ i64       ┆ null         │\n╞══════════════════╪═════════════╪═══════════╪══════════════╡\n│ 2021-12-31       ┆ 200         ┆ 10        ┆ null         │\n│ 2020-12-31       ┆ 200         ┆ 20        ┆ null         │\n│ 2019-12-31       ┆ 300         ┆ 30        ┆ null         │\n│ 2018-12-31       ┆ 400         ┆ 40        ┆ null         │\n└──────────────────┴─────────────┴───────────┴──────────────┘",
      "text/html": "<div><style>\n.dataframe > thead > tr,\n.dataframe > tbody > tr {\n  text-align: right;\n  white-space: pre-wrap;\n}\n</style>\n<small>shape: (4, 4)</small><table border=\"1\" class=\"dataframe\"><thead><tr><th>fiscalDateEnding</th><th>grossProfit</th><th>netIncome</th><th>totalRevenue</th></tr><tr><td>str</td><td>i64</td><td>i64</td><td>null</td></tr></thead><tbody><tr><td>&quot;2021-12-31&quot;</td><td>200</td><td>10</td><td>null</td></tr><tr><td>&quot;2020-12-31&quot;</td><td>200</td><td>20</td><td>null</td></tr><tr><td>&quot;2019-12-31&quot;</td><td>300</td><td>30</td><td>null</td></tr><tr><td>&quot;2018-12-31&quot;</td><td>400</td><td>40</td><td>null</td></tr></tbody></table></div>"
     },
     "execution_count": 11,
     "metadata": {},
     "output_type": "execute_result"
    }
   ],
   "source": [
    "# get the removed columns and add it to the source data frame as null\n",
    "field_cols = [x for x in df_target.columns if x not in ['fiscalDateEnding', 'is_current', 'update_time']]\n",
    "removed_column = list(set(df_target.select(field_cols).columns) - set(df_source_remove_col.columns))\n",
    "# join the dataframe on the fiscalDateEnding\n",
    "df_source_remove_col = df_source_remove_col.with_columns(pl.lit(None).alias(x) for x in removed_column)\n",
    "df_source_remove_col"
   ],
   "metadata": {
    "collapsed": false,
    "ExecuteTime": {
     "end_time": "2025-01-12T16:48:23.720670Z",
     "start_time": "2025-01-12T16:48:23.709731Z"
    }
   },
   "id": "2f99060081ae2162"
  },
  {
   "cell_type": "code",
   "execution_count": 12,
   "outputs": [
    {
     "name": "stdout",
     "output_type": "stream",
     "text": [
      "shape: (3, 7)\n",
      "┌──────────────┬─────────────┬──────────────┬───────────┬────────────┬──────────────┬──────────────┐\n",
      "│ fiscalDateEn ┆ grossProfit ┆ totalRevenue ┆ netIncome ┆ is_current ┆ update_time  ┆ totalRevenue │\n",
      "│ ding         ┆ ---         ┆ ---          ┆ ---       ┆ ---        ┆ ---          ┆ s_gold       │\n",
      "│ ---          ┆ i64         ┆ i64          ┆ i64       ┆ bool       ┆ datetime[μs] ┆ ---          │\n",
      "│ str          ┆             ┆              ┆           ┆            ┆              ┆ i64          │\n",
      "╞══════════════╪═════════════╪══════════════╪═══════════╪════════════╪══════════════╪══════════════╡\n",
      "│ 2021-12-31   ┆ 100         ┆ 1000         ┆ 10        ┆ true       ┆ 2025-01-12   ┆ 2000         │\n",
      "│              ┆             ┆              ┆           ┆            ┆ 11:47:34.942 ┆              │\n",
      "│              ┆             ┆              ┆           ┆            ┆ 200          ┆              │\n",
      "│ 2020-12-31   ┆ 200         ┆ 2000         ┆ 20        ┆ true       ┆ 2025-01-12   ┆ 2000         │\n",
      "│              ┆             ┆              ┆           ┆            ┆ 11:47:34.943 ┆              │\n",
      "│              ┆             ┆              ┆           ┆            ┆ 662          ┆              │\n",
      "│ 2019-12-31   ┆ 300         ┆ 3000         ┆ 30        ┆ true       ┆ 2025-01-12   ┆ 4000         │\n",
      "│              ┆             ┆              ┆           ┆            ┆ 11:47:34.943 ┆              │\n",
      "│              ┆             ┆              ┆           ┆            ┆ 663          ┆              │\n",
      "└──────────────┴─────────────┴──────────────┴───────────┴────────────┴──────────────┴──────────────┘\n",
      "shape: (4, 5)\n",
      "┌──────────────────┬─────────────┬────────────────────┬───────────┬──────────────┐\n",
      "│ fiscalDateEnding ┆ grossProfit ┆ totalRevenues_gold ┆ netIncome ┆ totalRevenue │\n",
      "│ ---              ┆ ---         ┆ ---                ┆ ---       ┆ ---          │\n",
      "│ str              ┆ i64         ┆ i64                ┆ i64       ┆ null         │\n",
      "╞══════════════════╪═════════════╪════════════════════╪═══════════╪══════════════╡\n",
      "│ 2021-12-31       ┆ 200         ┆ 2000               ┆ 10        ┆ null         │\n",
      "│ 2020-12-31       ┆ 200         ┆ 2000               ┆ 20        ┆ null         │\n",
      "│ 2019-12-31       ┆ 300         ┆ 4000               ┆ 30        ┆ null         │\n",
      "│ 2018-12-31       ┆ 400         ┆ 3000               ┆ 40        ┆ null         │\n",
      "└──────────────────┴─────────────┴────────────────────┴───────────┴──────────────┘\n"
     ]
    }
   ],
   "source": [
    "# handiling the renamed columns\n",
    "removed_column = list(set(df_target.select(field_cols).columns) - set(df_source_rename_col.columns))\n",
    "# join the dataframe on the fiscalDateEnding\n",
    "df_source_rename_col = df_source_rename_col.with_columns(pl.lit(None).alias(x) for x in removed_column)\n",
    "\n",
    "new_column = list(set(df_source_rename_col.columns) - set(df_target.columns))\n",
    "new_column.append('fiscalDateEnding')\n",
    "# join the dataframe on the fiscalDateEnding\n",
    "df_target_rename_col = df_target.join(df_source_rename_col.select(new_column), on='fiscalDateEnding', how='left')\n",
    "print(df_target_rename_col)\n",
    "print(df_source_rename_col)"
   ],
   "metadata": {
    "collapsed": false,
    "ExecuteTime": {
     "end_time": "2025-01-12T16:48:26.347830Z",
     "start_time": "2025-01-12T16:48:26.339370Z"
    }
   },
   "id": "edd40477111f1d27"
  },
  {
   "cell_type": "code",
   "execution_count": 13,
   "outputs": [],
   "source": [
    "# Create an update function that will handle the updates to the data frame using a source and target data frame\n",
    "def update_records(\n",
    "        target: pl.DataFrame,\n",
    "        source: pl.DataFrame,\n",
    "        on: str='fiscalDateEnding') -> pl.DataFrame:\n",
    "    \"\"\"\n",
    "    The following function looks to update the records of a slowly changing dimension type 2 data frame. Using a source dataframe\n",
    "    \n",
    "    Parameters:\n",
    "    target (pl.DataFrame): The target data frame that will be updated\n",
    "    source (pl.DataFrame): The source data frame that will be used to update the target data frame\n",
    "    \n",
    "    \n",
    "    Returns:\n",
    "    pl.DataFrame: The updated target data frame\n",
    "    \"\"\"\n",
    "    # find the records that differ between the two data frames\n",
    "    diff = source.join(target, on=on, suffix='_df2') .filter(pl.any_horizontal(\n",
    "                                                                            pl.col(x).ne_missing(pl.col(f\"{x}_df2\"))\n",
    "                                                                                for x in source.columns if x!='fiscalDateEnding')).select(source.columns)\n",
    "    # add the update time and is_current flag to the df_diff\n",
    "    diff = diff.with_columns(\n",
    "        pl.lit(True).alias(\"is_current\"),\n",
    "        pl.lit(datetime.now()).alias(\"update_time\")\n",
    "    )\n",
    "    # get the list of fiscalDateEnding that are in the df_diff\n",
    "    date_list = diff.select('fiscalDateEnding').to_series()\n",
    "    # update the is current flag for the old records\n",
    "    df_updated = target.with_columns(\n",
    "                    is_current=pl.when(pl.col('fiscalDateEnding').is_in(date_list))\n",
    "                            .then(pl.lit(False))\n",
    "                            .otherwise(pl.col('is_current')))\n",
    "    # concat the two data frames and order by fiscalDateEnding\n",
    "    print(f\"Shape of target: {df_updated.shape}\")\n",
    "    print(f\"Shape of diff: {diff.shape}\")\n",
    "    df_updated = pl.concat([df_updated, diff.select(df_updated.columns)]).sort('fiscalDateEnding')\n",
    "    return df_updated\n"
   ],
   "metadata": {
    "collapsed": false,
    "ExecuteTime": {
     "end_time": "2025-01-12T16:48:31.091526Z",
     "start_time": "2025-01-12T16:48:31.084576Z"
    }
   },
   "id": "16f2d1959499aa6d"
  },
  {
   "cell_type": "code",
   "execution_count": 14,
   "outputs": [
    {
     "name": "stdout",
     "output_type": "stream",
     "text": [
      "Shape of target: (3, 7)\n",
      "Shape of diff: (2, 7)\n",
      "Shape of target: (3, 6)\n",
      "Shape of diff: (3, 6)\n",
      "Shape of target: (3, 7)\n",
      "Shape of diff: (3, 7)\n",
      "shape: (5, 7)\n",
      "┌──────────────┬─────────────┬──────────────┬───────────┬────────────┬──────────────┬──────────────┐\n",
      "│ fiscalDateEn ┆ grossProfit ┆ totalRevenue ┆ netIncome ┆ is_current ┆ update_time  ┆ totalExpense │\n",
      "│ ding         ┆ ---         ┆ ---          ┆ ---       ┆ ---        ┆ ---          ┆ s            │\n",
      "│ ---          ┆ i64         ┆ i64          ┆ i64       ┆ bool       ┆ datetime[μs] ┆ ---          │\n",
      "│ str          ┆             ┆              ┆           ┆            ┆              ┆ i64          │\n",
      "╞══════════════╪═════════════╪══════════════╪═══════════╪════════════╪══════════════╪══════════════╡\n",
      "│ 2019-12-31   ┆ 300         ┆ 3000         ┆ 30        ┆ false      ┆ 2025-01-12   ┆ 300          │\n",
      "│              ┆             ┆              ┆           ┆            ┆ 11:47:34.943 ┆              │\n",
      "│              ┆             ┆              ┆           ┆            ┆ 663          ┆              │\n",
      "│ 2019-12-31   ┆ 300         ┆ 4000         ┆ 30        ┆ true       ┆ 2025-01-12   ┆ 300          │\n",
      "│              ┆             ┆              ┆           ┆            ┆ 11:48:44.577 ┆              │\n",
      "│              ┆             ┆              ┆           ┆            ┆ 555          ┆              │\n",
      "│ 2020-12-31   ┆ 200         ┆ 2000         ┆ 20        ┆ true       ┆ 2025-01-12   ┆ 200          │\n",
      "│              ┆             ┆              ┆           ┆            ┆ 11:47:34.943 ┆              │\n",
      "│              ┆             ┆              ┆           ┆            ┆ 662          ┆              │\n",
      "│ 2021-12-31   ┆ 100         ┆ 1000         ┆ 10        ┆ false      ┆ 2025-01-12   ┆ 100          │\n",
      "│              ┆             ┆              ┆           ┆            ┆ 11:47:34.942 ┆              │\n",
      "│              ┆             ┆              ┆           ┆            ┆ 200          ┆              │\n",
      "│ 2021-12-31   ┆ 200         ┆ 2000         ┆ 10        ┆ true       ┆ 2025-01-12   ┆ 100          │\n",
      "│              ┆             ┆              ┆           ┆            ┆ 11:48:44.577 ┆              │\n",
      "│              ┆             ┆              ┆           ┆            ┆ 555          ┆              │\n",
      "└──────────────┴─────────────┴──────────────┴───────────┴────────────┴──────────────┴──────────────┘\n",
      "shape: (6, 6)\n",
      "┌──────────────────┬─────────────┬──────────────┬───────────┬────────────┬─────────────────┐\n",
      "│ fiscalDateEnding ┆ grossProfit ┆ totalRevenue ┆ netIncome ┆ is_current ┆ update_time     │\n",
      "│ ---              ┆ ---         ┆ ---          ┆ ---       ┆ ---        ┆ ---             │\n",
      "│ str              ┆ i64         ┆ i64          ┆ i64       ┆ bool       ┆ datetime[μs]    │\n",
      "╞══════════════════╪═════════════╪══════════════╪═══════════╪════════════╪═════════════════╡\n",
      "│ 2019-12-31       ┆ 300         ┆ 3000         ┆ 30        ┆ false      ┆ 2025-01-12      │\n",
      "│                  ┆             ┆              ┆           ┆            ┆ 11:47:34.943663 │\n",
      "│ 2019-12-31       ┆ 300         ┆ null         ┆ 30        ┆ true       ┆ 2025-01-12      │\n",
      "│                  ┆             ┆              ┆           ┆            ┆ 11:48:44.604131 │\n",
      "│ 2020-12-31       ┆ 200         ┆ 2000         ┆ 20        ┆ false      ┆ 2025-01-12      │\n",
      "│                  ┆             ┆              ┆           ┆            ┆ 11:47:34.943662 │\n",
      "│ 2020-12-31       ┆ 200         ┆ null         ┆ 20        ┆ true       ┆ 2025-01-12      │\n",
      "│                  ┆             ┆              ┆           ┆            ┆ 11:48:44.604131 │\n",
      "│ 2021-12-31       ┆ 100         ┆ 1000         ┆ 10        ┆ false      ┆ 2025-01-12      │\n",
      "│                  ┆             ┆              ┆           ┆            ┆ 11:47:34.942200 │\n",
      "│ 2021-12-31       ┆ 200         ┆ null         ┆ 10        ┆ true       ┆ 2025-01-12      │\n",
      "│                  ┆             ┆              ┆           ┆            ┆ 11:48:44.604131 │\n",
      "└──────────────────┴─────────────┴──────────────┴───────────┴────────────┴─────────────────┘\n",
      "shape: (6, 7)\n",
      "┌──────────────┬─────────────┬──────────────┬───────────┬────────────┬──────────────┬──────────────┐\n",
      "│ fiscalDateEn ┆ grossProfit ┆ totalRevenue ┆ netIncome ┆ is_current ┆ update_time  ┆ totalRevenue │\n",
      "│ ding         ┆ ---         ┆ ---          ┆ ---       ┆ ---        ┆ ---          ┆ s_gold       │\n",
      "│ ---          ┆ i64         ┆ i64          ┆ i64       ┆ bool       ┆ datetime[μs] ┆ ---          │\n",
      "│ str          ┆             ┆              ┆           ┆            ┆              ┆ i64          │\n",
      "╞══════════════╪═════════════╪══════════════╪═══════════╪════════════╪══════════════╪══════════════╡\n",
      "│ 2019-12-31   ┆ 300         ┆ 3000         ┆ 30        ┆ false      ┆ 2025-01-12   ┆ 4000         │\n",
      "│              ┆             ┆              ┆           ┆            ┆ 11:47:34.943 ┆              │\n",
      "│              ┆             ┆              ┆           ┆            ┆ 663          ┆              │\n",
      "│ 2019-12-31   ┆ 300         ┆ null         ┆ 30        ┆ true       ┆ 2025-01-12   ┆ 4000         │\n",
      "│              ┆             ┆              ┆           ┆            ┆ 11:48:44.605 ┆              │\n",
      "│              ┆             ┆              ┆           ┆            ┆ 971          ┆              │\n",
      "│ 2020-12-31   ┆ 200         ┆ 2000         ┆ 20        ┆ false      ┆ 2025-01-12   ┆ 2000         │\n",
      "│              ┆             ┆              ┆           ┆            ┆ 11:47:34.943 ┆              │\n",
      "│              ┆             ┆              ┆           ┆            ┆ 662          ┆              │\n",
      "│ 2020-12-31   ┆ 200         ┆ null         ┆ 20        ┆ true       ┆ 2025-01-12   ┆ 2000         │\n",
      "│              ┆             ┆              ┆           ┆            ┆ 11:48:44.605 ┆              │\n",
      "│              ┆             ┆              ┆           ┆            ┆ 971          ┆              │\n",
      "│ 2021-12-31   ┆ 100         ┆ 1000         ┆ 10        ┆ false      ┆ 2025-01-12   ┆ 2000         │\n",
      "│              ┆             ┆              ┆           ┆            ┆ 11:47:34.942 ┆              │\n",
      "│              ┆             ┆              ┆           ┆            ┆ 200          ┆              │\n",
      "│ 2021-12-31   ┆ 200         ┆ null         ┆ 10        ┆ true       ┆ 2025-01-12   ┆ 2000         │\n",
      "│              ┆             ┆              ┆           ┆            ┆ 11:48:44.605 ┆              │\n",
      "│              ┆             ┆              ┆           ┆            ┆ 971          ┆              │\n",
      "└──────────────┴─────────────┴──────────────┴───────────┴────────────┴──────────────┴──────────────┘\n"
     ]
    }
   ],
   "source": [
    "# test the update function on th 3 dataframes\n",
    "df_new_col = update_records(target=df_target_new_col, source=df_source_new_col)\n",
    "df_remove_col = update_records(target=df_target, source=df_source_remove_col)\n",
    "df_rename_col = update_records(target=df_target_rename_col, source=df_source_rename_col)\n",
    "\n",
    "print(df_new_col)\n",
    "print(df_remove_col)\n",
    "print(df_rename_col)"
   ],
   "metadata": {
    "collapsed": false,
    "ExecuteTime": {
     "end_time": "2025-01-12T16:48:44.614693Z",
     "start_time": "2025-01-12T16:48:44.551843Z"
    }
   },
   "id": "80c1efccb92b4d67"
  },
  {
   "cell_type": "code",
   "execution_count": 15,
   "outputs": [
    {
     "name": "stdout",
     "output_type": "stream",
     "text": [
      "shape: (3, 7)\n",
      "┌──────────────┬─────────────┬──────────────┬───────────┬────────────┬──────────────┬──────────────┐\n",
      "│ fiscalDateEn ┆ grossProfit ┆ totalRevenue ┆ netIncome ┆ is_current ┆ update_time  ┆ totalExpense │\n",
      "│ ding         ┆ ---         ┆ ---          ┆ ---       ┆ ---        ┆ ---          ┆ s            │\n",
      "│ ---          ┆ i64         ┆ i64          ┆ i64       ┆ bool       ┆ datetime[μs] ┆ ---          │\n",
      "│ str          ┆             ┆              ┆           ┆            ┆              ┆ i64          │\n",
      "╞══════════════╪═════════════╪══════════════╪═══════════╪════════════╪══════════════╪══════════════╡\n",
      "│ 2021-12-31   ┆ 100         ┆ 1000         ┆ 10        ┆ true       ┆ 2025-01-12   ┆ 100          │\n",
      "│              ┆             ┆              ┆           ┆            ┆ 11:47:34.942 ┆              │\n",
      "│              ┆             ┆              ┆           ┆            ┆ 200          ┆              │\n",
      "│ 2020-12-31   ┆ 200         ┆ 2000         ┆ 20        ┆ true       ┆ 2025-01-12   ┆ 200          │\n",
      "│              ┆             ┆              ┆           ┆            ┆ 11:47:34.943 ┆              │\n",
      "│              ┆             ┆              ┆           ┆            ┆ 662          ┆              │\n",
      "│ 2019-12-31   ┆ 300         ┆ 3000         ┆ 30        ┆ true       ┆ 2025-01-12   ┆ 300          │\n",
      "│              ┆             ┆              ┆           ┆            ┆ 11:47:34.943 ┆              │\n",
      "│              ┆             ┆              ┆           ┆            ┆ 663          ┆              │\n",
      "└──────────────┴─────────────┴──────────────┴───────────┴────────────┴──────────────┴──────────────┘\n",
      "shape: (4, 5)\n",
      "┌──────────────────┬─────────────┬──────────────┬───────────────┬───────────┐\n",
      "│ fiscalDateEnding ┆ grossProfit ┆ totalRevenue ┆ totalExpenses ┆ netIncome │\n",
      "│ ---              ┆ ---         ┆ ---          ┆ ---           ┆ ---       │\n",
      "│ str              ┆ i64         ┆ i64          ┆ i64           ┆ i64       │\n",
      "╞══════════════════╪═════════════╪══════════════╪═══════════════╪═══════════╡\n",
      "│ 2021-12-31       ┆ 200         ┆ 2000         ┆ 100           ┆ 10        │\n",
      "│ 2020-12-31       ┆ 200         ┆ 2000         ┆ 200           ┆ 20        │\n",
      "│ 2019-12-31       ┆ 300         ┆ 4000         ┆ 300           ┆ 30        │\n",
      "│ 2018-12-31       ┆ 400         ┆ 3000         ┆ 400           ┆ 40        │\n",
      "└──────────────────┴─────────────┴──────────────┴───────────────┴───────────┘\n"
     ]
    }
   ],
   "source": [
    "print(df_target_new_col)\n",
    "print(df_source_new_col)"
   ],
   "metadata": {
    "collapsed": false,
    "ExecuteTime": {
     "end_time": "2025-01-12T16:49:41.351833Z",
     "start_time": "2025-01-12T16:49:41.341298Z"
    }
   },
   "id": "85857012f3f0bdfe"
  },
  {
   "cell_type": "code",
   "execution_count": 17,
   "outputs": [
    {
     "name": "stdout",
     "output_type": "stream",
     "text": [
      "shape: (6, 7)\n",
      "┌──────────────┬─────────────┬──────────────┬───────────┬────────────┬──────────────┬──────────────┐\n",
      "│ fiscalDateEn ┆ grossProfit ┆ totalRevenue ┆ netIncome ┆ is_current ┆ update_time  ┆ totalExpense │\n",
      "│ ding         ┆ ---         ┆ ---          ┆ ---       ┆ ---        ┆ ---          ┆ s            │\n",
      "│ ---          ┆ i64         ┆ i64          ┆ i64       ┆ bool       ┆ datetime[μs] ┆ ---          │\n",
      "│ str          ┆             ┆              ┆           ┆            ┆              ┆ i64          │\n",
      "╞══════════════╪═════════════╪══════════════╪═══════════╪════════════╪══════════════╪══════════════╡\n",
      "│ 2018-12-31   ┆ 400         ┆ 3000         ┆ 40        ┆ true       ┆ 2025-01-12   ┆ 400          │\n",
      "│              ┆             ┆              ┆           ┆            ┆ 11:51:28.758 ┆              │\n",
      "│              ┆             ┆              ┆           ┆            ┆ 134          ┆              │\n",
      "│ 2019-12-31   ┆ 300         ┆ 3000         ┆ 30        ┆ false      ┆ 2025-01-12   ┆ 300          │\n",
      "│              ┆             ┆              ┆           ┆            ┆ 11:47:34.943 ┆              │\n",
      "│              ┆             ┆              ┆           ┆            ┆ 663          ┆              │\n",
      "│ 2019-12-31   ┆ 300         ┆ 4000         ┆ 30        ┆ true       ┆ 2025-01-12   ┆ 300          │\n",
      "│              ┆             ┆              ┆           ┆            ┆ 11:48:44.577 ┆              │\n",
      "│              ┆             ┆              ┆           ┆            ┆ 555          ┆              │\n",
      "│ 2020-12-31   ┆ 200         ┆ 2000         ┆ 20        ┆ true       ┆ 2025-01-12   ┆ 200          │\n",
      "│              ┆             ┆              ┆           ┆            ┆ 11:47:34.943 ┆              │\n",
      "│              ┆             ┆              ┆           ┆            ┆ 662          ┆              │\n",
      "│ 2021-12-31   ┆ 100         ┆ 1000         ┆ 10        ┆ false      ┆ 2025-01-12   ┆ 100          │\n",
      "│              ┆             ┆              ┆           ┆            ┆ 11:47:34.942 ┆              │\n",
      "│              ┆             ┆              ┆           ┆            ┆ 200          ┆              │\n",
      "│ 2021-12-31   ┆ 200         ┆ 2000         ┆ 10        ┆ true       ┆ 2025-01-12   ┆ 100          │\n",
      "│              ┆             ┆              ┆           ┆            ┆ 11:48:44.577 ┆              │\n",
      "│              ┆             ┆              ┆           ┆            ┆ 555          ┆              │\n",
      "└──────────────┴─────────────┴──────────────┴───────────┴────────────┴──────────────┴──────────────┘\n"
     ]
    }
   ],
   "source": [],
   "metadata": {
    "collapsed": false,
    "ExecuteTime": {
     "end_time": "2025-01-12T16:52:13.852705Z",
     "start_time": "2025-01-12T16:52:13.830198Z"
    }
   },
   "id": "2502fed850bf5e44"
  }
 ],
 "metadata": {
  "kernelspec": {
   "display_name": "Python 3",
   "language": "python",
   "name": "python3"
  },
  "language_info": {
   "codemirror_mode": {
    "name": "ipython",
    "version": 2
   },
   "file_extension": ".py",
   "mimetype": "text/x-python",
   "name": "python",
   "nbconvert_exporter": "python",
   "pygments_lexer": "ipython2",
   "version": "2.7.6"
  }
 },
 "nbformat": 4,
 "nbformat_minor": 5
}
