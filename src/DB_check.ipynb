{
 "cells": [
  {
   "cell_type": "code",
   "execution_count": 1,
   "id": "initial_id",
   "metadata": {
    "collapsed": true,
    "ExecuteTime": {
     "end_time": "2025-01-28T13:27:55.531778Z",
     "start_time": "2025-01-28T13:27:55.524601Z"
    }
   },
   "outputs": [],
   "source": [
    "# Check the updates in the data storage is accurate"
   ]
  },
  {
   "cell_type": "code",
   "outputs": [],
   "source": [
    "import polars as pl\n",
    "from alpha_utils import get_bucket_name, get_profile_name\n",
    "from s3io import S3IO\n",
    "from datetime import datetime"
   ],
   "metadata": {
    "collapsed": false,
    "ExecuteTime": {
     "end_time": "2025-01-29T12:55:05.641351Z",
     "start_time": "2025-01-29T12:55:05.637981Z"
    }
   },
   "id": "f7b192a05d9959c3",
   "execution_count": 34
  },
  {
   "cell_type": "code",
   "outputs": [],
   "source": [
    "# get the ticker data\n",
    "ticker_table = \"stock_tracker/tickers.parq\"\n",
    "ticker_queue_table = \"stock_tracker/tickers_queue.parq\""
   ],
   "metadata": {
    "collapsed": false,
    "ExecuteTime": {
     "end_time": "2025-01-29T12:55:06.834432Z",
     "start_time": "2025-01-29T12:55:06.831349Z"
    }
   },
   "id": "b0dd46b651a43002",
   "execution_count": 35
  },
  {
   "cell_type": "code",
   "outputs": [
    {
     "name": "stdout",
     "output_type": "stream",
     "text": [
      "stock_tracker/tickers.parq\n",
      "shape: (98, 4)\n",
      "┌────────┬────────────────────────────┬────────────┬─────────────────┐\n",
      "│ Symbol ┆ Download_time              ┆ Downloaded ┆ Download_Failed │\n",
      "│ ---    ┆ ---                        ┆ ---        ┆ ---             │\n",
      "│ str    ┆ datetime[μs]               ┆ bool       ┆ bool            │\n",
      "╞════════╪════════════════════════════╪════════════╪═════════════════╡\n",
      "│ XOM    ┆ 2025-01-28 09:53:42.654783 ┆ false      ┆ false           │\n",
      "│ CVX    ┆ 2025-01-28 09:53:42.654783 ┆ false      ┆ false           │\n",
      "│ BE     ┆ 2025-01-28 09:53:42.654783 ┆ false      ┆ false           │\n",
      "│ BPT    ┆ 2025-01-28 09:53:42.654783 ┆ false      ┆ false           │\n",
      "│ AR     ┆ 2025-01-28 09:53:42.654783 ┆ false      ┆ false           │\n",
      "│ …      ┆ …                          ┆ …          ┆ …               │\n",
      "│ CRK    ┆ 2025-01-28 08:11:46.291942 ┆ false      ┆ false           │\n",
      "│ SJT    ┆ 2025-01-28 08:11:46.291942 ┆ false      ┆ false           │\n",
      "│ VAL    ┆ 2025-01-28 08:11:46.291942 ┆ false      ┆ false           │\n",
      "│ SD     ┆ 2025-01-28 08:11:46.291942 ┆ false      ┆ false           │\n",
      "│ PARR   ┆ 2025-01-28 08:11:46.291942 ┆ false      ┆ false           │\n",
      "└────────┴────────────────────────────┴────────────┴─────────────────┘\n"
     ]
    }
   ],
   "source": [
    "# create the s3io object\n",
    "s3io = S3IO(bucket=get_bucket_name(),\n",
    "            profile=get_profile_name())\n",
    "\n",
    "# get the ticker table and ticker queue\n",
    "ticker_queue = s3io.s3_read_parquet(file_path=ticker_queue_table)\n",
    "tickers = s3io.s3_read_parquet(file_path=ticker_table)\n",
    "\n",
    "print(ticker_table)\n",
    "print(ticker_queue)"
   ],
   "metadata": {
    "collapsed": false,
    "ExecuteTime": {
     "end_time": "2025-01-29T12:55:10.141879Z",
     "start_time": "2025-01-29T12:55:09.245284Z"
    }
   },
   "id": "b37f093e7a0b85c5",
   "execution_count": 36
  },
  {
   "cell_type": "code",
   "outputs": [
    {
     "data": {
      "text/plain": "shape: (0, 10)\n┌────────┬──────┬────────────┬─────────┬───┬──────────┬────────────┬────────────┬──────────────┐\n│ Symbol ┆ Name ┆ Market Cap ┆ Country ┆ … ┆ Industry ┆ Market Cap ┆ is_current ┆ updated_time │\n│ ---    ┆ ---  ┆ ---        ┆ ---     ┆   ┆ ---      ┆ Name       ┆ ---        ┆ ---          │\n│ str    ┆ str  ┆ f64        ┆ str     ┆   ┆ str      ┆ ---        ┆ bool       ┆ datetime[μs] │\n│        ┆      ┆            ┆         ┆   ┆          ┆ str        ┆            ┆              │\n╞════════╪══════╪════════════╪═════════╪═══╪══════════╪════════════╪════════════╪══════════════╡\n└────────┴──────┴────────────┴─────────┴───┴──────────┴────────────┴────────────┴──────────────┘",
      "text/html": "<div><style>\n.dataframe > thead > tr,\n.dataframe > tbody > tr {\n  text-align: right;\n  white-space: pre-wrap;\n}\n</style>\n<small>shape: (0, 10)</small><table border=\"1\" class=\"dataframe\"><thead><tr><th>Symbol</th><th>Name</th><th>Market Cap</th><th>Country</th><th>IPO Year</th><th>Sector</th><th>Industry</th><th>Market Cap Name</th><th>is_current</th><th>updated_time</th></tr><tr><td>str</td><td>str</td><td>f64</td><td>str</td><td>i64</td><td>str</td><td>str</td><td>str</td><td>bool</td><td>datetime[μs]</td></tr></thead><tbody></tbody></table></div>"
     },
     "execution_count": 27,
     "metadata": {},
     "output_type": "execute_result"
    }
   ],
   "source": [
    "# check for any updated tickers\n",
    "tickers.filter(pl.col(\"is_current\") == False)"
   ],
   "metadata": {
    "collapsed": false,
    "ExecuteTime": {
     "end_time": "2025-01-28T14:57:12.692331Z",
     "start_time": "2025-01-28T14:57:12.688804Z"
    }
   },
   "id": "9feea115861bebf3",
   "execution_count": 27
  },
  {
   "cell_type": "code",
   "outputs": [
    {
     "data": {
      "text/plain": "shape: (0, 2)\n┌────────┬───────┐\n│ Symbol ┆ count │\n│ ---    ┆ ---   │\n│ str    ┆ u32   │\n╞════════╪═══════╡\n└────────┴───────┘",
      "text/html": "<div><style>\n.dataframe > thead > tr,\n.dataframe > tbody > tr {\n  text-align: right;\n  white-space: pre-wrap;\n}\n</style>\n<small>shape: (0, 2)</small><table border=\"1\" class=\"dataframe\"><thead><tr><th>Symbol</th><th>count</th></tr><tr><td>str</td><td>u32</td></tr></thead><tbody></tbody></table></div>"
     },
     "execution_count": 28,
     "metadata": {},
     "output_type": "execute_result"
    }
   ],
   "source": [
    "# check for any duplicates\n",
    "tickers.select(pl.col(\"Symbol\")).to_series().value_counts().filter(pl.col(\"count\") > 1)"
   ],
   "metadata": {
    "collapsed": false,
    "ExecuteTime": {
     "end_time": "2025-01-28T14:57:19.833532Z",
     "start_time": "2025-01-28T14:57:19.830219Z"
    }
   },
   "id": "25be267152fff04a",
   "execution_count": 28
  },
  {
   "cell_type": "code",
   "outputs": [
    {
     "data": {
      "text/plain": "shape: (0, 10)\n┌────────┬──────┬────────────┬─────────┬───┬──────────┬────────────┬────────────┬──────────────┐\n│ Symbol ┆ Name ┆ Market Cap ┆ Country ┆ … ┆ Industry ┆ Market Cap ┆ is_current ┆ updated_time │\n│ ---    ┆ ---  ┆ ---        ┆ ---     ┆   ┆ ---      ┆ Name       ┆ ---        ┆ ---          │\n│ str    ┆ str  ┆ f64        ┆ str     ┆   ┆ str      ┆ ---        ┆ bool       ┆ datetime[μs] │\n│        ┆      ┆            ┆         ┆   ┆          ┆ str        ┆            ┆              │\n╞════════╪══════╪════════════╪═════════╪═══╪══════════╪════════════╪════════════╪══════════════╡\n└────────┴──────┴────────────┴─────────┴───┴──────────┴────────────┴────────────┴──────────────┘",
      "text/html": "<div><style>\n.dataframe > thead > tr,\n.dataframe > tbody > tr {\n  text-align: right;\n  white-space: pre-wrap;\n}\n</style>\n<small>shape: (0, 10)</small><table border=\"1\" class=\"dataframe\"><thead><tr><th>Symbol</th><th>Name</th><th>Market Cap</th><th>Country</th><th>IPO Year</th><th>Sector</th><th>Industry</th><th>Market Cap Name</th><th>is_current</th><th>updated_time</th></tr><tr><td>str</td><td>str</td><td>f64</td><td>str</td><td>i64</td><td>str</td><td>str</td><td>str</td><td>bool</td><td>datetime[μs]</td></tr></thead><tbody></tbody></table></div>"
     },
     "execution_count": 29,
     "metadata": {},
     "output_type": "execute_result"
    }
   ],
   "source": [
    "# print the duplicate symbols in the dataframe\n",
    "duplicate_tickers = (tickers.select(pl.col(\"Symbol\"))\n",
    "                     .to_series().value_counts()\n",
    "                     .filter(pl.col(\"count\") > 1)\n",
    "                     .select(pl.col(\"Symbol\")).to_series())\n",
    "\n",
    "tickers.filter(pl.col(\"Symbol\").is_in(duplicate_tickers)).unique()"
   ],
   "metadata": {
    "collapsed": false,
    "ExecuteTime": {
     "end_time": "2025-01-28T14:57:27.895987Z",
     "start_time": "2025-01-28T14:57:27.885792Z"
    }
   },
   "id": "ba93f0cbb0862614",
   "execution_count": 29
  },
  {
   "cell_type": "code",
   "outputs": [
    {
     "data": {
      "text/plain": "shape: (0,)\nSeries: 'Symbol' [str]\n[\n]",
      "text/html": "<div><style>\n.dataframe > thead > tr,\n.dataframe > tbody > tr {\n  text-align: right;\n  white-space: pre-wrap;\n}\n</style>\n<small>shape: (0,)</small><table border=\"1\" class=\"dataframe\"><thead><tr><th>Symbol</th></tr><tr><td>str</td></tr></thead><tbody></tbody></table></div>"
     },
     "execution_count": 13,
     "metadata": {},
     "output_type": "execute_result"
    }
   ],
   "source": [
    "# drop duplicates and write back to s3\n",
    "tickers_dropped = tickers.unique()\n",
    "\n",
    "(tickers_dropped.select(pl.col(\"Symbol\"))\n",
    "                     .to_series().value_counts()\n",
    "                     .filter(pl.col(\"count\") > 1)\n",
    "                     .select(pl.col(\"Symbol\")).to_series())"
   ],
   "metadata": {
    "collapsed": false,
    "ExecuteTime": {
     "end_time": "2025-01-28T14:34:58.766416Z",
     "start_time": "2025-01-28T14:34:58.762017Z"
    }
   },
   "id": "e0702ebc10224168",
   "execution_count": 13
  },
  {
   "cell_type": "code",
   "outputs": [
    {
     "name": "stdout",
     "output_type": "stream",
     "text": [
      "written to s3\n"
     ]
    }
   ],
   "source": [
    "s3io.s3_write_parquet(df=tickers_dropped, file_path=ticker_table)\n",
    "print(\"written to s3\")"
   ],
   "metadata": {
    "collapsed": false,
    "ExecuteTime": {
     "end_time": "2025-01-28T14:35:50.791721Z",
     "start_time": "2025-01-28T14:35:50.569397Z"
    }
   },
   "id": "aca3b74e4dbc3859",
   "execution_count": 14
  },
  {
   "cell_type": "code",
   "outputs": [
    {
     "data": {
      "text/plain": "shape: (0,)\nSeries: 'Symbol' [str]\n[\n]",
      "text/html": "<div><style>\n.dataframe > thead > tr,\n.dataframe > tbody > tr {\n  text-align: right;\n  white-space: pre-wrap;\n}\n</style>\n<small>shape: (0,)</small><table border=\"1\" class=\"dataframe\"><thead><tr><th>Symbol</th></tr><tr><td>str</td></tr></thead><tbody></tbody></table></div>"
     },
     "execution_count": 30,
     "metadata": {},
     "output_type": "execute_result"
    }
   ],
   "source": [
    "(ticker_queue.select(pl.col(\"Symbol\"))\n",
    "                     .to_series().value_counts()\n",
    "                     .filter(pl.col(\"count\") > 1)\n",
    "                     .select(pl.col(\"Symbol\")).to_series())"
   ],
   "metadata": {
    "collapsed": false,
    "ExecuteTime": {
     "end_time": "2025-01-28T14:57:55.497764Z",
     "start_time": "2025-01-28T14:57:55.492689Z"
    }
   },
   "id": "e848c8f82abf58a1",
   "execution_count": 30
  },
  {
   "cell_type": "code",
   "outputs": [
    {
     "data": {
      "text/plain": "True"
     },
     "execution_count": 31,
     "metadata": {},
     "output_type": "execute_result"
    }
   ],
   "source": [
    "# check the number of symbols with what is in the ticker table\n",
    "ticker_queue.select(pl.col(\"Symbol\")).n_unique() == tickers_dropped.select(pl.col(\"Symbol\")).n_unique()"
   ],
   "metadata": {
    "collapsed": false,
    "ExecuteTime": {
     "end_time": "2025-01-28T14:58:01.841758Z",
     "start_time": "2025-01-28T14:58:01.836648Z"
    }
   },
   "id": "758e5439be5273b1",
   "execution_count": 31
  },
  {
   "cell_type": "code",
   "outputs": [
    {
     "data": {
      "text/plain": "shape: (0, 4)\n┌────────┬───────────────┬────────────┬─────────────────┐\n│ Symbol ┆ Download_time ┆ Downloaded ┆ Download_Failed │\n│ ---    ┆ ---           ┆ ---        ┆ ---             │\n│ str    ┆ datetime[μs]  ┆ bool       ┆ bool            │\n╞════════╪═══════════════╪════════════╪═════════════════╡\n└────────┴───────────────┴────────────┴─────────────────┘",
      "text/html": "<div><style>\n.dataframe > thead > tr,\n.dataframe > tbody > tr {\n  text-align: right;\n  white-space: pre-wrap;\n}\n</style>\n<small>shape: (0, 4)</small><table border=\"1\" class=\"dataframe\"><thead><tr><th>Symbol</th><th>Download_time</th><th>Downloaded</th><th>Download_Failed</th></tr><tr><td>str</td><td>datetime[μs]</td><td>bool</td><td>bool</td></tr></thead><tbody></tbody></table></div>"
     },
     "execution_count": 32,
     "metadata": {},
     "output_type": "execute_result"
    }
   ],
   "source": [
    "downloaded_time = datetime(year=2025, month=1, day=28, hour=9, minute=11)\n",
    "# set the download failed to false\n",
    "ticker_queue_updated = ticker_queue.with_columns(\n",
    "    Download_Failed=pl.when(pl.col(\"Downloaded\") == False,\n",
    "                            pl.col(\"Download_time\") > downloaded_time).then(False).otherwise(pl.col(\"Download_Failed\"))\n",
    ")\n",
    "\n",
    "ticker_queue_updated.filter(pl.col(\"Downloaded\") == False,\n",
    "                    pl.col(\"Download_Failed\") == True,\n",
    "                    pl.col(\"Download_time\") > downloaded_time)"
   ],
   "metadata": {
    "collapsed": false,
    "ExecuteTime": {
     "end_time": "2025-01-28T14:58:47.844121Z",
     "start_time": "2025-01-28T14:58:47.836009Z"
    }
   },
   "id": "1a6b85919e77a8b2",
   "execution_count": 32
  },
  {
   "cell_type": "code",
   "outputs": [
    {
     "name": "stdout",
     "output_type": "stream",
     "text": [
      "written to s3\n"
     ]
    }
   ],
   "source": [
    "# write the que back to test the rerun\n",
    "s3io.s3_write_parquet(df=ticker_queue_updated, file_path=ticker_queue_table)\n",
    "print(\"written to s3\")"
   ],
   "metadata": {
    "collapsed": false,
    "ExecuteTime": {
     "end_time": "2025-01-28T14:59:16.628164Z",
     "start_time": "2025-01-28T14:59:16.450192Z"
    }
   },
   "id": "8bfe8a0b7e680212",
   "execution_count": 33
  },
  {
   "cell_type": "code",
   "outputs": [
    {
     "data": {
      "text/plain": "shape: (26, 4)\n┌────────┬────────────────────────────┬────────────┬─────────────────┐\n│ Symbol ┆ Download_time              ┆ Downloaded ┆ Download_Failed │\n│ ---    ┆ ---                        ┆ ---        ┆ ---             │\n│ str    ┆ datetime[μs]               ┆ bool       ┆ bool            │\n╞════════╪════════════════════════════╪════════════╪═════════════════╡\n│ XOM    ┆ 2025-01-28 09:53:42.654783 ┆ false      ┆ false           │\n│ CVX    ┆ 2025-01-28 09:53:42.654783 ┆ false      ┆ false           │\n│ BE     ┆ 2025-01-28 09:53:42.654783 ┆ false      ┆ false           │\n│ BPT    ┆ 2025-01-28 09:53:42.654783 ┆ false      ┆ false           │\n│ AR     ┆ 2025-01-28 09:53:42.654783 ┆ false      ┆ false           │\n│ …      ┆ …                          ┆ …          ┆ …               │\n│ CRK    ┆ 2025-01-28 08:11:46.291942 ┆ false      ┆ false           │\n│ SJT    ┆ 2025-01-28 08:11:46.291942 ┆ false      ┆ false           │\n│ VAL    ┆ 2025-01-28 08:11:46.291942 ┆ false      ┆ false           │\n│ SD     ┆ 2025-01-28 08:11:46.291942 ┆ false      ┆ false           │\n│ PARR   ┆ 2025-01-28 08:11:46.291942 ┆ false      ┆ false           │\n└────────┴────────────────────────────┴────────────┴─────────────────┘",
      "text/html": "<div><style>\n.dataframe > thead > tr,\n.dataframe > tbody > tr {\n  text-align: right;\n  white-space: pre-wrap;\n}\n</style>\n<small>shape: (26, 4)</small><table border=\"1\" class=\"dataframe\"><thead><tr><th>Symbol</th><th>Download_time</th><th>Downloaded</th><th>Download_Failed</th></tr><tr><td>str</td><td>datetime[μs]</td><td>bool</td><td>bool</td></tr></thead><tbody><tr><td>&quot;XOM&quot;</td><td>2025-01-28 09:53:42.654783</td><td>false</td><td>false</td></tr><tr><td>&quot;CVX&quot;</td><td>2025-01-28 09:53:42.654783</td><td>false</td><td>false</td></tr><tr><td>&quot;BE&quot;</td><td>2025-01-28 09:53:42.654783</td><td>false</td><td>false</td></tr><tr><td>&quot;BPT&quot;</td><td>2025-01-28 09:53:42.654783</td><td>false</td><td>false</td></tr><tr><td>&quot;AR&quot;</td><td>2025-01-28 09:53:42.654783</td><td>false</td><td>false</td></tr><tr><td>&hellip;</td><td>&hellip;</td><td>&hellip;</td><td>&hellip;</td></tr><tr><td>&quot;CRK&quot;</td><td>2025-01-28 08:11:46.291942</td><td>false</td><td>false</td></tr><tr><td>&quot;SJT&quot;</td><td>2025-01-28 08:11:46.291942</td><td>false</td><td>false</td></tr><tr><td>&quot;VAL&quot;</td><td>2025-01-28 08:11:46.291942</td><td>false</td><td>false</td></tr><tr><td>&quot;SD&quot;</td><td>2025-01-28 08:11:46.291942</td><td>false</td><td>false</td></tr><tr><td>&quot;PARR&quot;</td><td>2025-01-28 08:11:46.291942</td><td>false</td><td>false</td></tr></tbody></table></div>"
     },
     "execution_count": 37,
     "metadata": {},
     "output_type": "execute_result"
    }
   ],
   "source": [
    "ticker_queue.filter(pl.col(\"Downloaded\") == False,\n",
    "                    pl.col(\"Download_Failed\") == False)"
   ],
   "metadata": {
    "collapsed": false,
    "ExecuteTime": {
     "end_time": "2025-01-29T13:25:12.999742Z",
     "start_time": "2025-01-29T13:25:12.991682Z"
    }
   },
   "id": "4bc7c7763571f3fb",
   "execution_count": 37
  },
  {
   "cell_type": "code",
   "outputs": [],
   "source": [],
   "metadata": {
    "collapsed": false
   },
   "id": "69bcebbaa6061b35"
  }
 ],
 "metadata": {
  "kernelspec": {
   "display_name": "Python 3",
   "language": "python",
   "name": "python3"
  },
  "language_info": {
   "codemirror_mode": {
    "name": "ipython",
    "version": 2
   },
   "file_extension": ".py",
   "mimetype": "text/x-python",
   "name": "python",
   "nbconvert_exporter": "python",
   "pygments_lexer": "ipython2",
   "version": "2.7.6"
  }
 },
 "nbformat": 4,
 "nbformat_minor": 5
}
